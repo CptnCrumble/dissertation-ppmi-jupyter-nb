{
 "cells": [
  {
   "cell_type": "code",
   "execution_count": 24,
   "id": "b6f71841",
   "metadata": {},
   "outputs": [],
   "source": [
    "import pandas\n",
    "\n",
    "data_dictionary = pandas.read_csv('Data_Dictionary_-_Harmonized.csv')\n",
    "\n",
    "def definerer(itm_name):\n",
    "    tmp = data_dictionary[data_dictionary['ITM_NAME'] == itm_name]\n",
    "    if tmp.size > 0:\n",
    "        print(itm_name)\n",
    "        print(tmp.iloc[0]['DSCR'])\n",
    "        print('---')\n",
    "    else:\n",
    "        print(itm_name + ' not in data dictionary\\n---')\n",
    "\n",
    "def df_deets(dframe):\n",
    "    for x in dframe.columns:\n",
    "        definerer(x)\n",
    "        \n",
    "def make_a_set(dframe,column):\n",
    "    output = set()\n",
    "    for x in dframe[column]:\n",
    "        output.add(x)\n",
    "    return output"
   ]
  },
  {
   "cell_type": "code",
   "execution_count": 31,
   "id": "84522495",
   "metadata": {},
   "outputs": [],
   "source": [
    "updrs_ii = pandas.read_csv('MDS_UPDRS_Part_II__Patient_Questionnaire.csv')\n",
    "#df_deets(updrs_ii)"
   ]
  },
  {
   "cell_type": "code",
   "execution_count": 32,
   "id": "3c66b805",
   "metadata": {},
   "outputs": [],
   "source": [
    "falls = pandas.read_csv('Determination_of_Freezing_and_Falls.csv')\n",
    "# print(falls.iloc[456])\n",
    "#df_deets(falls)\n",
    "\n",
    "# GOOD - maybe calculate an 'any falls at all' binary for model use"
   ]
  },
  {
   "cell_type": "code",
   "execution_count": 5,
   "id": "cfb2e422",
   "metadata": {},
   "outputs": [],
   "source": [
    "depression = pandas.read_csv('Geriatric_Depression_Scale__Short_Version_.csv')\n",
    "# df_deets(depression)\n",
    "\n",
    "# GOOD - how can this be tied into HADS?\n",
    "# Look up the GDSSV for any existing summary statistics"
   ]
  },
  {
   "cell_type": "code",
   "execution_count": 6,
   "id": "b90a3a32",
   "metadata": {},
   "outputs": [],
   "source": [
    "other_cf = pandas.read_csv('Other_Clinical_Features.csv')\n",
    "# print(other_cf.iloc[13])\n",
    "# df_deets(other_cf)\n",
    "\n",
    "# Lots to choose from here, all binary flags"
   ]
  },
  {
   "cell_type": "markdown",
   "id": "5df2ae2d",
   "metadata": {},
   "source": [
    "? Patient Number comparisons ?"
   ]
  },
  {
   "cell_type": "code",
   "execution_count": 9,
   "id": "c6766133",
   "metadata": {},
   "outputs": [
    {
     "name": "stdout",
     "output_type": "stream",
     "text": [
      "UPDRS patient count : {} 1859\n",
      "UPDRS patient count : {} 1045\n",
      "UPDRS patient count : {} 1794\n",
      "UPDRS patient count : {} 1562\n"
     ]
    }
   ],
   "source": [
    "print(\"UPDRS patient count : {}\",len(pandas.unique(updrs_ii['PATNO'])))\n",
    "print(\"UPDRS patient count : {}\",len(pandas.unique(falls['PATNO'])))\n",
    "print(\"UPDRS patient count : {}\",len(pandas.unique(depression['PATNO'])))\n",
    "print(\"UPDRS patient count : {}\",len(pandas.unique(other_cf['PATNO'])))"
   ]
  },
  {
   "cell_type": "code",
   "execution_count": 29,
   "id": "bc07c266",
   "metadata": {},
   "outputs": [],
   "source": [
    "pat1 = updrs_ii[updrs_ii.PATNO == 3001]\n",
    "#pat1.head(20)"
   ]
  },
  {
   "cell_type": "code",
   "execution_count": 28,
   "id": "59ddc144",
   "metadata": {},
   "outputs": [],
   "source": [
    "falls_pat1 = falls[falls.PATNO == 3001]\n",
    "#falls_pat1.head()"
   ]
  },
  {
   "cell_type": "code",
   "execution_count": 26,
   "id": "8cebf517",
   "metadata": {},
   "outputs": [
    {
     "name": "stdout",
     "output_type": "stream",
     "text": [
      "1036\n"
     ]
    }
   ],
   "source": [
    "test = make_a_set(updrs_ii,'PATNO')\n",
    "fall_p = make_a_set(falls,'PATNO')\n",
    "print(len(test.intersection(fall_p)))"
   ]
  },
  {
   "cell_type": "code",
   "execution_count": 27,
   "id": "2267407f",
   "metadata": {},
   "outputs": [
    {
     "name": "stdout",
     "output_type": "stream",
     "text": [
      "1785\n"
     ]
    }
   ],
   "source": [
    "dep = make_a_set(depression,'PATNO')\n",
    "print(len(test.intersection(dep)))"
   ]
  },
  {
   "cell_type": "code",
   "execution_count": 30,
   "id": "52af06dd",
   "metadata": {},
   "outputs": [
    {
     "name": "stdout",
     "output_type": "stream",
     "text": [
      "1552\n"
     ]
    }
   ],
   "source": [
    "misc = make_a_set(other_cf,'PATNO')\n",
    "print(len(test.intersection(misc)))"
   ]
  },
  {
   "cell_type": "markdown",
   "id": "3214d27b",
   "metadata": {},
   "source": [
    "patient number overlap looks good, what about events ??"
   ]
  },
  {
   "cell_type": "code",
   "execution_count": 35,
   "id": "e53e4e4a",
   "metadata": {},
   "outputs": [
    {
     "name": "stdout",
     "output_type": "stream",
     "text": [
      "UPDRS event count : {} 36\n",
      "falls event count : {} 12\n",
      "depression event count : {} 20\n",
      "other event count : {} 35\n"
     ]
    }
   ],
   "source": [
    "print(\"UPDRS event count : {}\",len(pandas.unique(updrs_ii['EVENT_ID'])))\n",
    "print(\"falls event count : {}\",len(pandas.unique(falls['EVENT_ID'])))\n",
    "print(\"depression event count : {}\",len(pandas.unique(depression['EVENT_ID'])))\n",
    "print(\"other event count : {}\",len(pandas.unique(other_cf['EVENT_ID'])))"
   ]
  },
  {
   "cell_type": "code",
   "execution_count": 36,
   "id": "6c29e68a",
   "metadata": {},
   "outputs": [
    {
     "name": "stdout",
     "output_type": "stream",
     "text": [
      "12\n"
     ]
    }
   ],
   "source": [
    "test = make_a_set(updrs_ii,'EVENT_ID')\n",
    "fall_p = make_a_set(falls,'EVENT_ID')\n",
    "print(len(test.intersection(fall_p)))"
   ]
  }
 ],
 "metadata": {
  "kernelspec": {
   "display_name": "Python 3 (ipykernel)",
   "language": "python",
   "name": "python3"
  },
  "language_info": {
   "codemirror_mode": {
    "name": "ipython",
    "version": 3
   },
   "file_extension": ".py",
   "mimetype": "text/x-python",
   "name": "python",
   "nbconvert_exporter": "python",
   "pygments_lexer": "ipython3",
   "version": "3.9.7"
  }
 },
 "nbformat": 4,
 "nbformat_minor": 5
}
