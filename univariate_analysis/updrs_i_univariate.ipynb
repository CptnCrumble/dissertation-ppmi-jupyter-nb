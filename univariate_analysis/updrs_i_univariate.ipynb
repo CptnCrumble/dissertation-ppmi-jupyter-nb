{
 "cells": [
  {
   "cell_type": "code",
   "execution_count": 28,
   "id": "58101c03-a61f-42ec-8f5c-64ce97334090",
   "metadata": {},
   "outputs": [],
   "source": [
    "import math\n",
    "import numpy as np\n",
    "import pandas\n",
    "from scipy.stats import ttest_ind\n",
    "\n",
    "original_data = pandas.read_csv('../working_data/updrsi_all_qs.csv')\n",
    "\n",
    "original_data.head()\n",
    "\n",
    "# ditch prev_sigfall\n",
    "\n",
    "fallers = original_data.query('SIGFALL == 1.0')\n",
    "fallers = fallers.drop(['PREV_SIGFALL','SIGFALL'], axis=1)\n",
    "non_fallers = original_data.query('SIGFALL == 0.0')\n",
    "non_fallers = non_fallers.drop(['PREV_SIGFALL','SIGFALL'], axis=1)"
   ]
  },
  {
   "cell_type": "code",
   "execution_count": 16,
   "id": "f06845dc-f345-45f2-9498-71314f00450c",
   "metadata": {},
   "outputs": [
    {
     "data": {
      "text/html": [
       "<div>\n",
       "<style scoped>\n",
       "    .dataframe tbody tr th:only-of-type {\n",
       "        vertical-align: middle;\n",
       "    }\n",
       "\n",
       "    .dataframe tbody tr th {\n",
       "        vertical-align: top;\n",
       "    }\n",
       "\n",
       "    .dataframe thead th {\n",
       "        text-align: right;\n",
       "    }\n",
       "</style>\n",
       "<table border=\"1\" class=\"dataframe\">\n",
       "  <thead>\n",
       "    <tr style=\"text-align: right;\">\n",
       "      <th></th>\n",
       "      <th>D_NP1COG</th>\n",
       "      <th>D_NP1HALL</th>\n",
       "      <th>D_NP1DPRS</th>\n",
       "      <th>D_NP1ANXS</th>\n",
       "      <th>D_NP1APAT</th>\n",
       "      <th>D_NP1DDS</th>\n",
       "    </tr>\n",
       "  </thead>\n",
       "  <tbody>\n",
       "    <tr>\n",
       "      <th>1</th>\n",
       "      <td>2.0</td>\n",
       "      <td>1.0</td>\n",
       "      <td>0.0</td>\n",
       "      <td>2.0</td>\n",
       "      <td>-1.0</td>\n",
       "      <td>0.0</td>\n",
       "    </tr>\n",
       "    <tr>\n",
       "      <th>2</th>\n",
       "      <td>-1.0</td>\n",
       "      <td>1.0</td>\n",
       "      <td>1.0</td>\n",
       "      <td>0.0</td>\n",
       "      <td>-1.0</td>\n",
       "      <td>1.0</td>\n",
       "    </tr>\n",
       "    <tr>\n",
       "      <th>4</th>\n",
       "      <td>1.0</td>\n",
       "      <td>1.0</td>\n",
       "      <td>0.0</td>\n",
       "      <td>1.0</td>\n",
       "      <td>0.0</td>\n",
       "      <td>0.0</td>\n",
       "    </tr>\n",
       "    <tr>\n",
       "      <th>5</th>\n",
       "      <td>1.0</td>\n",
       "      <td>1.0</td>\n",
       "      <td>0.0</td>\n",
       "      <td>-1.0</td>\n",
       "      <td>1.0</td>\n",
       "      <td>0.0</td>\n",
       "    </tr>\n",
       "    <tr>\n",
       "      <th>6</th>\n",
       "      <td>-1.0</td>\n",
       "      <td>0.0</td>\n",
       "      <td>0.0</td>\n",
       "      <td>1.0</td>\n",
       "      <td>1.0</td>\n",
       "      <td>0.0</td>\n",
       "    </tr>\n",
       "  </tbody>\n",
       "</table>\n",
       "</div>"
      ],
      "text/plain": [
       "   D_NP1COG  D_NP1HALL  D_NP1DPRS  D_NP1ANXS  D_NP1APAT  D_NP1DDS\n",
       "1       2.0        1.0        0.0        2.0       -1.0       0.0\n",
       "2      -1.0        1.0        1.0        0.0       -1.0       1.0\n",
       "4       1.0        1.0        0.0        1.0        0.0       0.0\n",
       "5       1.0        1.0        0.0       -1.0        1.0       0.0\n",
       "6      -1.0        0.0        0.0        1.0        1.0       0.0"
      ]
     },
     "execution_count": 16,
     "metadata": {},
     "output_type": "execute_result"
    }
   ],
   "source": [
    "non_fallers.head()"
   ]
  },
  {
   "cell_type": "code",
   "execution_count": 32,
   "id": "3801b58e-8e94-423b-b09d-5280469f0f02",
   "metadata": {},
   "outputs": [],
   "source": [
    "qs = non_fallers.columns\n",
    "\n",
    "for q in qs:\n",
    "    p = ttest_ind(fallers[q], non_fallers[q], equal_var=False)\n",
    "    if p.pvalue < 0.05:\n",
    "        print(q)\n",
    "        print(p)"
   ]
  },
  {
   "cell_type": "code",
   "execution_count": 33,
   "id": "9c59c258-fcc9-4280-a1fe-c4893b14cc33",
   "metadata": {},
   "outputs": [
    {
     "name": "stdout",
     "output_type": "stream",
     "text": [
      "D_NP1COG\n",
      "0.6545788687157634\n",
      "D_NP1HALL\n",
      "0.9258090349086487\n",
      "D_NP1DPRS\n",
      "0.5676395699261074\n",
      "D_NP1ANXS\n",
      "0.19582572721488056\n",
      "D_NP1APAT\n",
      "0.7833235717581621\n",
      "D_NP1DDS\n",
      "0.9803098184985596\n"
     ]
    }
   ],
   "source": [
    "for q in qs:\n",
    "    p = ttest_ind(fallers[q], non_fallers[q], equal_var=False)\n",
    "    print(q)\n",
    "    print(p.pvalue)"
   ]
  },
  {
   "cell_type": "code",
   "execution_count": 27,
   "id": "e00a77c9-96e5-48c6-83ad-c3ea01c20b49",
   "metadata": {},
   "outputs": [
    {
     "data": {
      "text/plain": [
       "Ttest_indResult(statistic=0.5929745800943411, pvalue=0.554989762435951)"
      ]
     },
     "execution_count": 27,
     "metadata": {},
     "output_type": "execute_result"
    }
   ],
   "source": [
    "updrs_i_total = pandas.read_csv('../working_data/updrsi_short_form.csv')\n",
    "\n",
    "u_i_fall = updrs_i_total.query('SIGFALL == 1.0')\n",
    "u_i_no_fall = updrs_i_total.query('SIGFALL == 0.0')\n",
    "\n",
    "ttest_ind(u_i_fall['D_NP1RTOT'], u_i_no_fall['D_NP1RTOT'], equal_var=False)"
   ]
  },
  {
   "cell_type": "code",
   "execution_count": null,
   "id": "5071080a-b53e-47c0-b023-7d98174f6dc4",
   "metadata": {},
   "outputs": [],
   "source": [
    "# So NO significant difference in updrs_i data"
   ]
  }
 ],
 "metadata": {
  "kernelspec": {
   "display_name": "Python 3 (ipykernel)",
   "language": "python",
   "name": "python3"
  },
  "language_info": {
   "codemirror_mode": {
    "name": "ipython",
    "version": 3
   },
   "file_extension": ".py",
   "mimetype": "text/x-python",
   "name": "python",
   "nbconvert_exporter": "python",
   "pygments_lexer": "ipython3",
   "version": "3.8.13"
  }
 },
 "nbformat": 4,
 "nbformat_minor": 5
}
