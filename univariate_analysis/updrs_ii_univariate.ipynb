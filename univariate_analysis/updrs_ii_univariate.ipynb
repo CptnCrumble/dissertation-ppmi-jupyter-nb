{
 "cells": [
  {
   "cell_type": "code",
   "execution_count": 8,
   "id": "39d89cbb-0fdf-40b4-be17-25615d8ab5f6",
   "metadata": {},
   "outputs": [],
   "source": [
    "import math\n",
    "import numpy as np\n",
    "import pandas\n",
    "from scipy.stats import ttest_ind\n",
    "\n",
    "original_data = pandas.read_csv('../working_data/updrsii_all_qs.csv')\n",
    "\n",
    "original_data.head()\n",
    "\n",
    "# ditch prev_sigfall\n",
    "\n",
    "fallers = original_data.query('SIGFALL == 1.0')\n",
    "fallers = fallers.drop(['PREV_SIGFALL','SIGFALL'], axis=1)\n",
    "non_fallers = original_data.query('SIGFALL == 0.0')\n",
    "non_fallers = non_fallers.drop(['PREV_SIGFALL','SIGFALL'], axis=1)"
   ]
  },
  {
   "cell_type": "code",
   "execution_count": 3,
   "id": "b6b67572-7c4c-4b0a-9cc6-eb6defbdfe02",
   "metadata": {},
   "outputs": [
    {
     "data": {
      "text/html": [
       "<div>\n",
       "<style scoped>\n",
       "    .dataframe tbody tr th:only-of-type {\n",
       "        vertical-align: middle;\n",
       "    }\n",
       "\n",
       "    .dataframe tbody tr th {\n",
       "        vertical-align: top;\n",
       "    }\n",
       "\n",
       "    .dataframe thead th {\n",
       "        text-align: right;\n",
       "    }\n",
       "</style>\n",
       "<table border=\"1\" class=\"dataframe\">\n",
       "  <thead>\n",
       "    <tr style=\"text-align: right;\">\n",
       "      <th></th>\n",
       "      <th>D_NP2SPCH</th>\n",
       "      <th>D_NP2SALV</th>\n",
       "      <th>D_NP2SWAL</th>\n",
       "      <th>D_NP2EAT</th>\n",
       "      <th>D_NP2DRES</th>\n",
       "      <th>D_NP2HYGN</th>\n",
       "      <th>D_NP2HWRT</th>\n",
       "      <th>D_NP2HOBB</th>\n",
       "      <th>D_NP2TURN</th>\n",
       "      <th>D_NP2TRMR</th>\n",
       "      <th>D_NP2RISE</th>\n",
       "      <th>D_NP2WALK</th>\n",
       "      <th>D_NP2FREZ</th>\n",
       "    </tr>\n",
       "  </thead>\n",
       "  <tbody>\n",
       "    <tr>\n",
       "      <th>1</th>\n",
       "      <td>0.0</td>\n",
       "      <td>1.0</td>\n",
       "      <td>2.0</td>\n",
       "      <td>0.0</td>\n",
       "      <td>-1.0</td>\n",
       "      <td>1.0</td>\n",
       "      <td>-2.0</td>\n",
       "      <td>0.0</td>\n",
       "      <td>1.0</td>\n",
       "      <td>1.0</td>\n",
       "      <td>2.0</td>\n",
       "      <td>1.0</td>\n",
       "      <td>0.0</td>\n",
       "    </tr>\n",
       "    <tr>\n",
       "      <th>2</th>\n",
       "      <td>0.0</td>\n",
       "      <td>1.0</td>\n",
       "      <td>0.0</td>\n",
       "      <td>0.0</td>\n",
       "      <td>0.0</td>\n",
       "      <td>0.0</td>\n",
       "      <td>0.0</td>\n",
       "      <td>0.0</td>\n",
       "      <td>1.0</td>\n",
       "      <td>0.0</td>\n",
       "      <td>1.0</td>\n",
       "      <td>0.0</td>\n",
       "      <td>1.0</td>\n",
       "    </tr>\n",
       "    <tr>\n",
       "      <th>4</th>\n",
       "      <td>-1.0</td>\n",
       "      <td>-1.0</td>\n",
       "      <td>0.0</td>\n",
       "      <td>-2.0</td>\n",
       "      <td>-2.0</td>\n",
       "      <td>-1.0</td>\n",
       "      <td>-1.0</td>\n",
       "      <td>-1.0</td>\n",
       "      <td>0.0</td>\n",
       "      <td>-2.0</td>\n",
       "      <td>-1.0</td>\n",
       "      <td>0.0</td>\n",
       "      <td>-1.0</td>\n",
       "    </tr>\n",
       "    <tr>\n",
       "      <th>5</th>\n",
       "      <td>0.0</td>\n",
       "      <td>-3.0</td>\n",
       "      <td>0.0</td>\n",
       "      <td>0.0</td>\n",
       "      <td>0.0</td>\n",
       "      <td>1.0</td>\n",
       "      <td>0.0</td>\n",
       "      <td>0.0</td>\n",
       "      <td>0.0</td>\n",
       "      <td>0.0</td>\n",
       "      <td>0.0</td>\n",
       "      <td>0.0</td>\n",
       "      <td>0.0</td>\n",
       "    </tr>\n",
       "    <tr>\n",
       "      <th>6</th>\n",
       "      <td>2.0</td>\n",
       "      <td>0.0</td>\n",
       "      <td>0.0</td>\n",
       "      <td>1.0</td>\n",
       "      <td>0.0</td>\n",
       "      <td>0.0</td>\n",
       "      <td>1.0</td>\n",
       "      <td>1.0</td>\n",
       "      <td>0.0</td>\n",
       "      <td>1.0</td>\n",
       "      <td>0.0</td>\n",
       "      <td>0.0</td>\n",
       "      <td>0.0</td>\n",
       "    </tr>\n",
       "  </tbody>\n",
       "</table>\n",
       "</div>"
      ],
      "text/plain": [
       "   D_NP2SPCH  D_NP2SALV  D_NP2SWAL  D_NP2EAT  D_NP2DRES  D_NP2HYGN  D_NP2HWRT  \\\n",
       "1        0.0        1.0        2.0       0.0       -1.0        1.0       -2.0   \n",
       "2        0.0        1.0        0.0       0.0        0.0        0.0        0.0   \n",
       "4       -1.0       -1.0        0.0      -2.0       -2.0       -1.0       -1.0   \n",
       "5        0.0       -3.0        0.0       0.0        0.0        1.0        0.0   \n",
       "6        2.0        0.0        0.0       1.0        0.0        0.0        1.0   \n",
       "\n",
       "   D_NP2HOBB  D_NP2TURN  D_NP2TRMR  D_NP2RISE  D_NP2WALK  D_NP2FREZ  \n",
       "1        0.0        1.0        1.0        2.0        1.0        0.0  \n",
       "2        0.0        1.0        0.0        1.0        0.0        1.0  \n",
       "4       -1.0        0.0       -2.0       -1.0        0.0       -1.0  \n",
       "5        0.0        0.0        0.0        0.0        0.0        0.0  \n",
       "6        1.0        0.0        1.0        0.0        0.0        0.0  "
      ]
     },
     "execution_count": 3,
     "metadata": {},
     "output_type": "execute_result"
    }
   ],
   "source": [
    "non_fallers.head()"
   ]
  },
  {
   "cell_type": "code",
   "execution_count": 9,
   "id": "68afe09f-2bfa-4a18-9584-b7345657a3fe",
   "metadata": {},
   "outputs": [
    {
     "name": "stdout",
     "output_type": "stream",
     "text": [
      "D_NP2RISE\n",
      "Ttest_indResult(statistic=2.111088965788968, pvalue=0.038711815459177706)\n",
      "D_NP2FREZ\n",
      "Ttest_indResult(statistic=2.245217683051287, pvalue=0.028162928347199995)\n"
     ]
    }
   ],
   "source": [
    "qs = non_fallers.columns\n",
    "\n",
    "for q in qs:\n",
    "    p = ttest_ind(fallers[q], non_fallers[q], equal_var=False)\n",
    "    if p.pvalue < 0.05:\n",
    "        print(q)\n",
    "        print(p)"
   ]
  },
  {
   "cell_type": "code",
   "execution_count": 7,
   "id": "34e09392-0320-44aa-a4cd-d94f833ea37c",
   "metadata": {},
   "outputs": [
    {
     "data": {
      "text/plain": [
       "Ttest_indResult(statistic=1.7336475576867514, pvalue=0.08734660441404794)"
      ]
     },
     "execution_count": 7,
     "metadata": {},
     "output_type": "execute_result"
    }
   ],
   "source": [
    "updrs_ii_total = pandas.read_csv('../working_data/updrsii_short_form.csv')\n",
    "\n",
    "u_ii_fall = updrs_ii_total.query('SIGFALL == 1.0')\n",
    "u_ii_no_fall = updrs_ii_total.query('SIGFALL == 0.0')\n",
    "\n",
    "ttest_ind(u_ii_fall['D_NP2PTOT'], u_ii_no_fall['D_NP2PTOT'], equal_var=False)"
   ]
  },
  {
   "cell_type": "code",
   "execution_count": null,
   "id": "0b03becb-848b-4b6d-9490-912a262edf34",
   "metadata": {},
   "outputs": [],
   "source": [
    "# :O something we can model with..."
   ]
  }
 ],
 "metadata": {
  "kernelspec": {
   "display_name": "Python 3 (ipykernel)",
   "language": "python",
   "name": "python3"
  },
  "language_info": {
   "codemirror_mode": {
    "name": "ipython",
    "version": 3
   },
   "file_extension": ".py",
   "mimetype": "text/x-python",
   "name": "python",
   "nbconvert_exporter": "python",
   "pygments_lexer": "ipython3",
   "version": "3.8.13"
  }
 },
 "nbformat": 4,
 "nbformat_minor": 5
}
