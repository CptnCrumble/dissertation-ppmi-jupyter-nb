{
 "cells": [
  {
   "cell_type": "code",
   "execution_count": 7,
   "id": "33c336da-60de-4d3d-bc0c-2a5f46676197",
   "metadata": {},
   "outputs": [],
   "source": [
    "import numpy as np\n",
    "import optunity\n",
    "import optunity.metrics\n",
    "\n",
    "# short form for now\n",
    "original_data = np.genfromtxt('../../working_data/updrsii_short_form.csv', delimiter=',', skip_header=True)\n",
    "_, n_columns = original_data.shape\n",
    "\n",
    "data = original_data[:,0:(n_columns - 1)]\n",
    "labels = original_data[:,(n_columns - 1)]\n",
    "\n",
    "# Common cross validator for all models\n",
    "cv_decorator = optunity.cross_validated(x=data, y=labels, num_folds=10)\n",
    "\n",
    "results = []\n"
   ]
  },
  {
   "cell_type": "code",
   "execution_count": 6,
   "id": "2c12ed93-8cdb-43f5-9332-99d0b2709ad1",
   "metadata": {},
   "outputs": [
    {
     "name": "stdout",
     "output_type": "stream",
     "text": [
      "Optimal parameters{'sigfall_prior': 0.024700000000000024}\n",
      "AUROC of tuned model: 0.637\n"
     ]
    }
   ],
   "source": [
    "# Gaussian Naive Bayes\n",
    "from sklearn.naive_bayes import GaussianNB\n",
    "\n",
    "def gnb_tuned_auroc(x_train, y_train, x_test, y_test, sigfall_prior):\n",
    "    no_fall_prior = 1.0 - sigfall_prior\n",
    "    model = GaussianNB(priors=[no_fall_prior,sigfall_prior]).fit(x_train, y_train)\n",
    "    decision_values = model.predict(x_test)\n",
    "    auc = optunity.metrics.roc_auc(y_test, decision_values)\n",
    "    return auc\n",
    "    \n",
    "    \n",
    "gnb_tuned_auroc = cv_decorator(gnb_tuned_auroc)\n",
    "gnb_optimal_pars, gnb_info, _ = optunity.maximize(gnb_tuned_auroc, solver_name='grid search', num_evals=100, sigfall_prior=[0.01,0.99])\n",
    "\n",
    "print(\"Optimal parameters\" + str(gnb_optimal_pars))\n",
    "print(\"AUROC of tuned model: %1.3f\" % gnb_info.optimum)\n",
    "\n",
    "results.append({'model': 'Gaussian Naive Bayes',\n",
    "               'Optimal parameters': gnb_optimal_pars,\n",
    "               'ROC_AUC': gnb_info.optimum\n",
    "               })"
   ]
  }
 ],
 "metadata": {
  "kernelspec": {
   "display_name": "Python 3 (ipykernel)",
   "language": "python",
   "name": "python3"
  },
  "language_info": {
   "codemirror_mode": {
    "name": "ipython",
    "version": 3
   },
   "file_extension": ".py",
   "mimetype": "text/x-python",
   "name": "python",
   "nbconvert_exporter": "python",
   "pygments_lexer": "ipython3",
   "version": "3.8.13"
  }
 },
 "nbformat": 4,
 "nbformat_minor": 5
}
