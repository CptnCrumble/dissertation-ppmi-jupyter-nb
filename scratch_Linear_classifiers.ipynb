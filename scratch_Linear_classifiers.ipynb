{
 "cells": [
  {
   "cell_type": "code",
   "execution_count": 32,
   "id": "1c849a7c",
   "metadata": {},
   "outputs": [],
   "source": [
    "import numpy as np\n",
    "import pandas as pd\n",
    "import random\n",
    "from sklearn.model_selection import train_test_split\n",
    "from sklearn.model_selection import cross_val_score\n",
    "from sklearn.metrics import accuracy_score\n",
    "from sklearn.metrics import confusion_matrix\n",
    "from sklearn.discriminant_analysis import LinearDiscriminantAnalysis\n",
    "from sklearn.discriminant_analysis import QuadraticDiscriminantAnalysis\n",
    "from sklearn.linear_model import LogisticRegression\n",
    "\n",
    "updrs_sigfall = pd.read_csv('./working_data/normalised_updrs_sigfall.csv')\n",
    "updrs_sigfall_raw = pd.read_csv('./working_data/normalised_updrs_sigfall_raw.csv')\n",
    "updrs_future_sigfall = pd.read_csv('./working_data/normalised_updrs_future_sigfall.csv')\n",
    "updrs_future_sigfall_raw = pd.read_csv('./working_data/normalised_updrs_future_sigfall_raw.csv')\n",
    "inc_updrs_sigfall = pd.read_csv('./working_data/normalised_increase_updrs_sigfall.csv')\n",
    "inc_updrs_sigfall_raw = pd.read_csv('./working_data/normalised_increase_updrs_sigfall_raw.csv')\n",
    "delta_updrs_sigfall = pd.read_csv('./working_data/normalised_delta_updrs_sigfall.csv')\n",
    "delta_updrs_sigfall_raw = pd.read_csv('./working_data/normalised_delta_updrs_sigfall_raw.csv')\n",
    "\n",
    "data_sources = {'updrs_sigfall': updrs_sigfall,\n",
    "                'updrs_future_sigfall': updrs_future_sigfall,\n",
    "                'inc_updrs_sigfall': inc_updrs_sigfall,\n",
    "                'delta_updrs_sigfall': delta_updrs_sigfall}\n",
    "\n",
    "raw_data_sources = {'updrs_sigfall_raw': updrs_sigfall_raw,\n",
    "                    'updrs_future_sigfall_raw': updrs_future_sigfall_raw,\n",
    "                    'inc_updrs_sigfall_raw': inc_updrs_sigfall_raw,\n",
    "                    'delta_updrs_sigfall_raw': delta_updrs_sigfall_raw }"
   ]
  },
  {
   "cell_type": "markdown",
   "id": "6dc3b2e4",
   "metadata": {},
   "source": [
    "## Straight models\n",
    "Running the working data directly through Linear Discriminant Analysis models\n",
    "Each dataset is Cross-fold validated where k=10\n",
    "Results analyzed for like for like comparison\n",
    "\n",
    "??? Is using straight models actually Bollocks ????"
   ]
  },
  {
   "cell_type": "code",
   "execution_count": 11,
   "id": "5fdff779",
   "metadata": {},
   "outputs": [],
   "source": [
    "def lda_model_score(dataset):\n",
    "    try:\n",
    "        X = dataset.drop(columns=['SIGFALL'])\n",
    "    except:\n",
    "        X = dataset.drop(columns=['SIGFALL_NEXT'])\n",
    "        \n",
    "    try:    \n",
    "        y = dataset['SIGFALL']\n",
    "    except:\n",
    "        y = dataset['SIGFALL_NEXT']\n",
    "\n",
    "    model = LinearDiscriminantAnalysis()\n",
    "    scores = cross_val_score(model, X, y, cv=10)\n",
    "    return scores.mean()\n"
   ]
  },
  {
   "cell_type": "code",
   "execution_count": 173,
   "id": "c3fa03e5",
   "metadata": {},
   "outputs": [
    {
     "name": "stdout",
     "output_type": "stream",
     "text": [
      "updrs_sigfall score of 0.9022084195997238\n",
      "updrs_future_sigfall score of 0.8999999999999998\n",
      "inc_updrs_sigfall score of 0.9101908657123381\n",
      "delta_updrs_sigfall score of 0.9118516769012753\n"
     ]
    }
   ],
   "source": [
    "for k,v in data_sources.items():    \n",
    "    s = lda_model_score(v)\n",
    "    print(f'{k} score of {s}')"
   ]
  },
  {
   "cell_type": "code",
   "execution_count": 162,
   "id": "c5d6eab1",
   "metadata": {},
   "outputs": [
    {
     "name": "stdout",
     "output_type": "stream",
     "text": [
      "updrs_sigfall_raw score of 0.9022084195997238\n",
      "updrs_future_sigfall_raw score of 0.8999999999999998\n",
      "inc_updrs_sigfall_raw score of 0.9120275694917821\n",
      "delta_updrs_sigfall_raw score of 0.9118516769012753\n"
     ]
    }
   ],
   "source": [
    "for k,v in raw_data_sources.items():    \n",
    "    s = lda_model_score(v)\n",
    "    print(f'{k} score of {s}')"
   ]
  },
  {
   "cell_type": "markdown",
   "id": "ce074ce1",
   "metadata": {},
   "source": [
    "## Using confusion matricies to understand errors\n",
    "Inbalances in data lead to bias in model\n",
    "eg if in doubt call it 0\n",
    "\n",
    "investigate the models again, this time analyzing for ????"
   ]
  },
  {
   "cell_type": "code",
   "execution_count": 115,
   "id": "a7adb01c",
   "metadata": {},
   "outputs": [],
   "source": [
    "def lda_confusion_matrix(dataset):\n",
    "        X_train, X_test, y_train, y_test = train_test_split(dataset.iloc[:, :-1], dataset.iloc[:, -1], test_size=0.25)\n",
    "        lda_model = LinearDiscriminantAnalysis()\n",
    "        predictions = lda_model.fit(X_train, y_train).predict(X_test)\n",
    "        tn, fn, fp, tp = confusion_matrix(predictions, y_test.values).ravel()\n",
    "        return {'true_negative': tn, 'false_negative': fn, 'false_positive': fp, 'true_positive': tp}\n",
    "\n",
    "\n",
    "def analyse_confusion_matrix(cm):\n",
    "    tn, fp, fn, tp = cm\n",
    "    sensitivity = tp / (tp + fn)\n",
    "    specificity = fp / fp + tn\n",
    "    precision = tp / (tp + fp)\n",
    "    return (sensitivity,precision)\n",
    "\n",
    "def sensitivity(cm):\n",
    "    return cm['true_positive'] / (cm['true_positive'] + cm['false_negative'])\n",
    "\n",
    "def specificity(cm):\n",
    "    return cm['true_negative'] / ( cm['true_negative'] + cm['false_positive'] )\n",
    "\n",
    "def false_positive_rate(cm):\n",
    "    return (1.0 - (specificity(cm)) )"
   ]
  },
  {
   "cell_type": "code",
   "execution_count": 114,
   "id": "a8641815",
   "metadata": {},
   "outputs": [
    {
     "name": "stdout",
     "output_type": "stream",
     "text": [
      "0.9969604863221885\n"
     ]
    },
    {
     "data": {
      "text/plain": [
       "0.027777777777777776"
      ]
     },
     "execution_count": 114,
     "metadata": {},
     "output_type": "execute_result"
    }
   ],
   "source": [
    "# for k,v in raw_data_sources.items():\n",
    "#     print(f'--- {k} ---')\n",
    "#     totals = []\n",
    "#     nfs = []\n",
    "#     falls = []\n",
    "#     for n in range(10):\n",
    "#         m = lda_confusion_matrix(v)\n",
    "#         t, nf, f = analyse_confusion_matrix(m)\n",
    "#         totals.append(t)\n",
    "#         nfs.append(nf)\n",
    "#         falls.append(f)\n",
    "#     avg_total = np.array(totals).mean()\n",
    "#     avg_nfs = np.array(nfs).mean()\n",
    "#     avg_falls = np.array(falls).mean()\n",
    "#     print(f'Total {avg_total}\\nNo fall {avg_nfs}\\nFalls {avg_falls}\\n')\n",
    "    \n",
    "# # to do - stick this in a df\n",
    "x = lda_confusion_matrix(updrs_future_sigfall)\n",
    "print(specificity(x))\n",
    "sensitivity(x)"
   ]
  },
  {
   "cell_type": "code",
   "execution_count": 60,
   "id": "66dbf9bb",
   "metadata": {},
   "outputs": [
    {
     "data": {
      "image/png": "[encoded data removed]",
      "text/plain": [
       "<Figure size 432x288 with 1 Axes>"
      ]
     },
     "metadata": {
      "needs_background": "light"
     },
     "output_type": "display_data"
    }
   ],
   "source": [
    "#ROCing out\n",
    "from sklearn.metrics import roc_curve, auc, roc_auc_score\n",
    "import matplotlib.pyplot as plt\n",
    "\n",
    "X_train, X_test, y_train, y_test = train_test_split(updrs_sigfall.iloc[:, :-1], updrs_sigfall.iloc[:, -1], test_size=0.1)\n",
    "lda_model = LinearDiscriminantAnalysis()\n",
    "y_score = lda_model.fit(X_train, y_train).decision_function(X_test)\n",
    "\n",
    "fpr, tpr, thresholds = roc_curve(y_test.ravel(), y_score.ravel())\n",
    "roc_auc = auc(fpr,tpr)\n",
    "\n",
    "# plotting stuff example\n",
    "plt.figure()\n",
    "lw = 2\n",
    "plt.plot(\n",
    "    fpr,\n",
    "    tpr,\n",
    "    color=\"darkorange\",\n",
    "    lw=lw,\n",
    "    label=\"ROC curve (area = %0.2f)\" % roc_auc,\n",
    ")\n",
    "plt.plot([0, 1], [0, 1], color=\"navy\", lw=lw, linestyle=\"--\")\n",
    "plt.xlim([0.0, 1.0])\n",
    "plt.ylim([0.0, 1.05])\n",
    "plt.xlabel(\"False Positive Rate\")\n",
    "plt.ylabel(\"True Positive Rate\")\n",
    "plt.title(\"Receiver operating characteristic example\")\n",
    "plt.legend(loc=\"lower right\")\n",
    "plt.show()"
   ]
  },
  {
   "cell_type": "code",
   "execution_count": 63,
   "id": "95854640",
   "metadata": {},
   "outputs": [
    {
     "data": {
      "text/plain": [
       "0.853968253968254"
      ]
     },
     "execution_count": 63,
     "metadata": {},
     "output_type": "execute_result"
    }
   ],
   "source": [
    "# So AUC score is a good way of analyzing our models \n",
    "# Lets run a bunch to generate a collection of AUC scores and use that to analyze accuracy of models\n",
    "roc_auc_score(y_test.ravel(), y_score.ravel())"
   ]
  },
  {
   "cell_type": "markdown",
   "id": "60889894",
   "metadata": {},
   "source": [
    "## Balanced data set approach\n",
    "What happens if we balance out the sigfall ratios and recreate our models?\n",
    "Can we beat random ?"
   ]
  },
  {
   "cell_type": "code",
   "execution_count": 9,
   "id": "8a5efb34",
   "metadata": {},
   "outputs": [],
   "source": [
    "# Get \n",
    "sigfall_indexes = updrs_sigfall.index[updrs_sigfall['SIGFALL'] == 0].to_list()\n",
    "n_falls = len(updrs_sigfall) - len(sigfall_indexes)\n",
    "drop = len(sigfall_indexes) - n_falls\n",
    "random.shuffle(sigfall_indexes)\n",
    "drop_indexes = sigfall_indexes[0:drop]\n"
   ]
  },
  {
   "cell_type": "code",
   "execution_count": 10,
   "id": "aa9e54e2",
   "metadata": {},
   "outputs": [
    {
     "name": "stdout",
     "output_type": "stream",
     "text": [
      "130\n",
      "130\n"
     ]
    },
    {
     "data": {
      "text/html": [
       "<div>\n",
       "<style scoped>\n",
       "    .dataframe tbody tr th:only-of-type {\n",
       "        vertical-align: middle;\n",
       "    }\n",
       "\n",
       "    .dataframe tbody tr th {\n",
       "        vertical-align: top;\n",
       "    }\n",
       "\n",
       "    .dataframe thead th {\n",
       "        text-align: right;\n",
       "    }\n",
       "</style>\n",
       "<table border=\"1\" class=\"dataframe\">\n",
       "  <thead>\n",
       "    <tr style=\"text-align: right;\">\n",
       "      <th></th>\n",
       "      <th>NP2SPCH</th>\n",
       "      <th>NP2SALV</th>\n",
       "      <th>NP2SWAL</th>\n",
       "      <th>NP2EAT</th>\n",
       "      <th>NP2DRES</th>\n",
       "      <th>NP2HYGN</th>\n",
       "      <th>NP2HWRT</th>\n",
       "      <th>NP2HOBB</th>\n",
       "      <th>NP2TURN</th>\n",
       "      <th>NP2TRMR</th>\n",
       "      <th>NP2RISE</th>\n",
       "      <th>NP2WALK</th>\n",
       "      <th>NP2FREZ</th>\n",
       "      <th>NP2PTOT</th>\n",
       "      <th>SIGFALL</th>\n",
       "    </tr>\n",
       "  </thead>\n",
       "  <tbody>\n",
       "    <tr>\n",
       "      <th>2</th>\n",
       "      <td>0.00</td>\n",
       "      <td>0.00</td>\n",
       "      <td>0.00</td>\n",
       "      <td>0.25</td>\n",
       "      <td>0.50</td>\n",
       "      <td>0.25</td>\n",
       "      <td>0.50</td>\n",
       "      <td>0.5</td>\n",
       "      <td>0.25</td>\n",
       "      <td>0.50</td>\n",
       "      <td>0.50</td>\n",
       "      <td>0.00</td>\n",
       "      <td>0.00</td>\n",
       "      <td>0.250000</td>\n",
       "      <td>0.0</td>\n",
       "    </tr>\n",
       "    <tr>\n",
       "      <th>3</th>\n",
       "      <td>0.25</td>\n",
       "      <td>0.00</td>\n",
       "      <td>0.25</td>\n",
       "      <td>0.25</td>\n",
       "      <td>0.50</td>\n",
       "      <td>0.25</td>\n",
       "      <td>0.50</td>\n",
       "      <td>0.5</td>\n",
       "      <td>0.25</td>\n",
       "      <td>0.50</td>\n",
       "      <td>0.50</td>\n",
       "      <td>0.25</td>\n",
       "      <td>0.00</td>\n",
       "      <td>0.307692</td>\n",
       "      <td>1.0</td>\n",
       "    </tr>\n",
       "    <tr>\n",
       "      <th>4</th>\n",
       "      <td>0.50</td>\n",
       "      <td>0.75</td>\n",
       "      <td>0.25</td>\n",
       "      <td>0.50</td>\n",
       "      <td>0.50</td>\n",
       "      <td>0.25</td>\n",
       "      <td>0.75</td>\n",
       "      <td>0.5</td>\n",
       "      <td>0.50</td>\n",
       "      <td>0.25</td>\n",
       "      <td>0.50</td>\n",
       "      <td>0.75</td>\n",
       "      <td>0.00</td>\n",
       "      <td>0.461538</td>\n",
       "      <td>0.0</td>\n",
       "    </tr>\n",
       "    <tr>\n",
       "      <th>17</th>\n",
       "      <td>0.00</td>\n",
       "      <td>0.75</td>\n",
       "      <td>0.25</td>\n",
       "      <td>0.25</td>\n",
       "      <td>0.25</td>\n",
       "      <td>0.25</td>\n",
       "      <td>0.25</td>\n",
       "      <td>0.5</td>\n",
       "      <td>0.50</td>\n",
       "      <td>0.25</td>\n",
       "      <td>0.25</td>\n",
       "      <td>0.75</td>\n",
       "      <td>0.75</td>\n",
       "      <td>0.384615</td>\n",
       "      <td>1.0</td>\n",
       "    </tr>\n",
       "    <tr>\n",
       "      <th>18</th>\n",
       "      <td>0.75</td>\n",
       "      <td>1.00</td>\n",
       "      <td>0.75</td>\n",
       "      <td>0.00</td>\n",
       "      <td>0.50</td>\n",
       "      <td>0.50</td>\n",
       "      <td>0.25</td>\n",
       "      <td>0.0</td>\n",
       "      <td>0.00</td>\n",
       "      <td>0.25</td>\n",
       "      <td>1.00</td>\n",
       "      <td>1.00</td>\n",
       "      <td>0.00</td>\n",
       "      <td>0.461538</td>\n",
       "      <td>1.0</td>\n",
       "    </tr>\n",
       "  </tbody>\n",
       "</table>\n",
       "</div>"
      ],
      "text/plain": [
       "    NP2SPCH  NP2SALV  NP2SWAL  NP2EAT  NP2DRES  NP2HYGN  NP2HWRT  NP2HOBB  \\\n",
       "2      0.00     0.00     0.00    0.25     0.50     0.25     0.50      0.5   \n",
       "3      0.25     0.00     0.25    0.25     0.50     0.25     0.50      0.5   \n",
       "4      0.50     0.75     0.25    0.50     0.50     0.25     0.75      0.5   \n",
       "17     0.00     0.75     0.25    0.25     0.25     0.25     0.25      0.5   \n",
       "18     0.75     1.00     0.75    0.00     0.50     0.50     0.25      0.0   \n",
       "\n",
       "    NP2TURN  NP2TRMR  NP2RISE  NP2WALK  NP2FREZ   NP2PTOT  SIGFALL  \n",
       "2      0.25     0.50     0.50     0.00     0.00  0.250000      0.0  \n",
       "3      0.25     0.50     0.50     0.25     0.00  0.307692      1.0  \n",
       "4      0.50     0.25     0.50     0.75     0.00  0.461538      0.0  \n",
       "17     0.50     0.25     0.25     0.75     0.75  0.384615      1.0  \n",
       "18     0.00     0.25     1.00     1.00     0.00  0.461538      1.0  "
      ]
     },
     "execution_count": 10,
     "metadata": {},
     "output_type": "execute_result"
    }
   ],
   "source": [
    "balanced_updrs_sigfall = updrs_sigfall.drop(drop_indexes)\n",
    "check1 = balanced_updrs_sigfall.index[balanced_updrs_sigfall['SIGFALL'] == 0].to_list()\n",
    "check2 = balanced_updrs_sigfall.index[balanced_updrs_sigfall['SIGFALL'] == 1].to_list()\n",
    "\n",
    "print(len(check1))\n",
    "print(len(check2))\n",
    "balanced_updrs_sigfall.head()"
   ]
  },
  {
   "cell_type": "code",
   "execution_count": 13,
   "id": "6174f0be",
   "metadata": {},
   "outputs": [
    {
     "data": {
      "text/plain": [
       "0.6423076923076924"
      ]
     },
     "execution_count": 13,
     "metadata": {},
     "output_type": "execute_result"
    }
   ],
   "source": [
    "lda_model_score(balanced_updrs_sigfall)"
   ]
  },
  {
   "cell_type": "code",
   "execution_count": 22,
   "id": "7ce599ab",
   "metadata": {},
   "outputs": [
    {
     "data": {
      "text/plain": [
       "(0.6153846153846154, 0.8333333333333334, 0.42857142857142855)"
      ]
     },
     "execution_count": 22,
     "metadata": {},
     "output_type": "execute_result"
    }
   ],
   "source": [
    "analyse_confusion_matrix(lda_confusion_matrix(balanced_updrs_sigfall))"
   ]
  }
 ],
 "metadata": {
  "kernelspec": {
   "display_name": "Python 3 (ipykernel)",
   "language": "python",
   "name": "python3"
  },
  "language_info": {
   "codemirror_mode": {
    "name": "ipython",
    "version": 3
   },
   "file_extension": ".py",
   "mimetype": "text/x-python",
   "name": "python",
   "nbconvert_exporter": "python",
   "pygments_lexer": "ipython3",
   "version": "3.9.7"
  }
 },
 "nbformat": 4,
 "nbformat_minor": 5
}
