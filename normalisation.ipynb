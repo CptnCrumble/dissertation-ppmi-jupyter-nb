{
 "cells": [
  {
   "cell_type": "code",
   "execution_count": 47,
   "id": "13f9a4d1",
   "metadata": {},
   "outputs": [],
   "source": [
    "import pandas\n",
    "import numpy\n",
    "\n",
    "\n",
    "def normalise_q(score):\n",
    "    return score / 4.0\n",
    "\n",
    "def normalise_total(score):\n",
    "    return score / 52.0\n",
    "\n",
    "def normalise_delta_q(score):\n",
    "    return (score + 4.0)/8.0\n",
    "\n",
    "def normalise_delta_total(score):\n",
    "    return (score + 52.0)/104.0\n",
    "\n",
    "\n",
    "updrs_qs = ['NP2SPCH','NP2SALV','NP2SWAL','NP2EAT','NP2DRES','NP2HYGN','NP2HWRT','NP2HOBB','NP2TURN','NP2TRMR','NP2RISE','NP2WALK','NP2FREZ']\n",
    "i_updrs_qs = ['I_'+x for x in updrs_qs]\n",
    "d_updrs_qs = ['D_'+x for x in updrs_qs]\n"
   ]
  },
  {
   "cell_type": "code",
   "execution_count": 23,
   "id": "8742f192",
   "metadata": {},
   "outputs": [],
   "source": [
    "updrs_sigfall = pandas.read_csv('./working_data/updrs_sigfall.csv')\n",
    "\n",
    "for q in updrs_qs:\n",
    "    updrs_sigfall[q] = updrs_sigfall[q].transform(normalise_q)\n",
    "\n",
    "updrs_sigfall['NP2PTOT'] = updrs_sigfall['NP2PTOT'].transform(normalise_total)\n",
    "\n",
    "normalised_updrs_sigfall = updrs_sigfall.drop(['PATNO','INFODT'],axis=1)\n",
    "normalised_updrs_sigfall.head()\n",
    "normalised_updrs_sigfall.to_csv('./working_data/normalised_updrs_sigfall.csv',index=False)"
   ]
  },
  {
   "cell_type": "code",
   "execution_count": 27,
   "id": "98e2a1f7",
   "metadata": {},
   "outputs": [],
   "source": [
    "normalised_updrs_sigfall_raw = normalised_updrs_sigfall.drop('NP2PTOT',axis=1)\n",
    "normalised_updrs_sigfall_raw.to_csv('./working_data/normalised_updrs_sigfall_raw.csv',index=False)"
   ]
  },
  {
   "cell_type": "code",
   "execution_count": 35,
   "id": "7ec8a880",
   "metadata": {},
   "outputs": [],
   "source": [
    "updrs_future_sigfall = pandas.read_csv('./working_data/updrs_future_sigfall.csv')\n",
    "\n",
    "for q in updrs_qs:\n",
    "    updrs_future_sigfall[q] = updrs_future_sigfall[q].transform(normalise_q)\n",
    "\n",
    "updrs_future_sigfall['NP2PTOT'] = updrs_future_sigfall['NP2PTOT'].transform(normalise_total)\n",
    "normalised_updrs_future_sigfall = updrs_future_sigfall.drop(['PATNO','INFODT'],axis=1)\n",
    "normalised_updrs_future_sigfall.to_csv('./working_data/normalised_updrs_future_sigfall.csv',index=False)"
   ]
  },
  {
   "cell_type": "code",
   "execution_count": 39,
   "id": "52ffb10b",
   "metadata": {},
   "outputs": [],
   "source": [
    "normalised_updrs_future_sigfall_raw = normalised_updrs_future_sigfall.drop('NP2PTOT',axis=1)\n",
    "normalised_updrs_future_sigfall_raw.to_csv('./working_data/normalised_updrs_future_sigfall_raw.csv', index=False)"
   ]
  },
  {
   "cell_type": "code",
   "execution_count": 50,
   "id": "73ed25a4",
   "metadata": {},
   "outputs": [],
   "source": [
    "increase_updrs_sigfall = pandas.read_csv('./working_data/increased_updrs_sigfall.csv')\n",
    "\n",
    "for q in i_updrs_qs:\n",
    "    increase_updrs_sigfall[q] = increase_updrs_sigfall[q].transform(normalise_q)\n",
    "    \n",
    "increase_updrs_sigfall['I_NP2PTOT'] = increase_updrs_sigfall['I_NP2PTOT'].transform(normalise_total)\n",
    "\n",
    "normalised_increase_updrs_sigfall = increase_updrs_sigfall.drop(['PATNO','INFODT'],axis=1)\n",
    "normalised_increase_updrs_sigfall.to_csv('./working_data/normalised_increase_updrs_sigfall.csv', index=False)\n"
   ]
  },
  {
   "cell_type": "code",
   "execution_count": 53,
   "id": "44b68f99",
   "metadata": {},
   "outputs": [],
   "source": [
    "normalised_increase_updrs_sigfall_raw = normalised_increase_updrs_sigfall.drop('I_NP2PTOT',axis=1)\n",
    "normalised_increase_updrs_sigfall_raw.to_csv('./working_data/normalised_increase_updrs_sigfall_raw.csv', index=False)"
   ]
  },
  {
   "cell_type": "code",
   "execution_count": 54,
   "id": "fa839472",
   "metadata": {},
   "outputs": [],
   "source": [
    "delta_updrs_sigfall = pandas.read_csv('./working_data/delta_updrs_sigfall.csv')\n",
    "\n",
    "for q in d_updrs_qs:\n",
    "    delta_updrs_sigfall[q] = delta_updrs_sigfall[q].transform(normalise_delta_q)\n",
    "    \n",
    "delta_updrs_sigfall['D_NP2PTOT'] = delta_updrs_sigfall['D_NP2PTOT'].transform(normalise_delta_total)\n",
    "\n",
    "normalised_delta_updrs_sigfall = delta_updrs_sigfall.drop(['PATNO','INFODT'],axis=1)\n",
    "normalised_delta_updrs_sigfall.to_csv('./working_data/normalised_delta_updrs_sigfall.csv',index=False)"
   ]
  },
  {
   "cell_type": "code",
   "execution_count": 56,
   "id": "34c5c578",
   "metadata": {},
   "outputs": [],
   "source": [
    "normalised_delta_updrs_sigfall_raw = normalised_delta_updrs_sigfall.drop('D_NP2PTOT', axis=1)\n",
    "normalised_delta_updrs_sigfall_raw.to_csv('./working_data/normalised_delta_updrs_sigfall_raw.csv', index=False)"
   ]
  }
 ],
 "metadata": {
  "kernelspec": {
   "display_name": "Python 3 (ipykernel)",
   "language": "python",
   "name": "python3"
  },
  "language_info": {
   "codemirror_mode": {
    "name": "ipython",
    "version": 3
   },
   "file_extension": ".py",
   "mimetype": "text/x-python",
   "name": "python",
   "nbconvert_exporter": "python",
   "pygments_lexer": "ipython3",
   "version": "3.9.7"
  }
 },
 "nbformat": 4,
 "nbformat_minor": 5
}
