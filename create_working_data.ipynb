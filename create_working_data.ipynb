{
 "cells": [
  {
   "cell_type": "code",
   "execution_count": 35,
   "id": "62f3c3e5",
   "metadata": {},
   "outputs": [],
   "source": [
    "import pandas\n",
    "import numpy\n",
    "import matplotlib.pyplot as plot\n",
    "\n",
    "updrs_ii = pandas.read_csv('source_data/MDS_UPDRS_Part_II__Patient_Questionnaire.csv')\n",
    "falls = pandas.read_csv('source_data/Determination_of_Freezing_and_Falls.csv')\n"
   ]
  },
  {
   "cell_type": "markdown",
   "id": "df721081",
   "metadata": {},
   "source": [
    "### Create updrsii_sigfall\n",
    "Concatenation of updrsII data & SIGFALL; a summary statistic derived from falls data"
   ]
  },
  {
   "cell_type": "code",
   "execution_count": 36,
   "id": "e35206b6",
   "metadata": {},
   "outputs": [],
   "source": [
    "# --- Summarise significant falls into SIGFALL binary flag ---\n",
    "\n",
    "def sigfall(row):\n",
    "    if row['FLLDRVIS'] == 1.0:\n",
    "        return 1.0\n",
    "    if row['FLLERVIS'] == 1.0:\n",
    "        return 1.0\n",
    "    if row['FLLHOSP'] == 1.0:\n",
    "        return 1.0\n",
    "    if row['FLLSURG'] == 1.0:\n",
    "        return 1.0\n",
    "    if row['FLLINST'] == 1.0:\n",
    "        return 1.0\n",
    "    else:\n",
    "        return 0.0\n",
    "    \n",
    "falls['SIGFALL'] = falls.apply (lambda row: sigfall(row), axis=1)"
   ]
  },
  {
   "cell_type": "code",
   "execution_count": 42,
   "id": "1705e84b",
   "metadata": {},
   "outputs": [],
   "source": [
    "# --- Create dataframe that combines UPDRSii data with SIGFALL binary flag ---\n",
    "\n",
    "def sig_get(row):\n",
    "    patno = row['PATNO']\n",
    "    infodt = row['INFODT']\n",
    "    \n",
    "    s1 = falls[(falls.INFODT == infodt) & (falls.PATNO == patno)]['SIGFALL']\n",
    "    if s1.empty:    \n",
    "        return numpy.nan\n",
    "    else:\n",
    "        return s1.values[0]\n",
    "\n",
    "\n",
    "updrs_sigfall = updrs_ii.drop(['REC_ID','EVENT_ID','PAG_NAME','NUPSOURC','ORIG_ENTRY','LAST_UPDATE'], axis=1)\n",
    "updrs_sigfall['SIGFALL'] = updrs_sigfall.apply (lambda row: sig_get(row), axis=1)\n",
    "updrs_sigfall.to_csv('./working_data/updrs_sigfall.csv')"
   ]
  },
  {
   "cell_type": "code",
   "execution_count": null,
   "id": "6e7829b4",
   "metadata": {},
   "outputs": [],
   "source": [
    "updrs_sigfall_raw = updrs_sigfall.drop('NP2PTOT',axis = 1)\n",
    "updrs_sigfall_raw.to_csv('./working_data/updrs_sigfall_raw.csv')"
   ]
  },
  {
   "cell_type": "markdown",
   "id": "acc3e569",
   "metadata": {},
   "source": [
    "### Create updrsii_sigfall_plus12\n",
    "Concatenation of updrsII data with SIGFALL from the following 12 month period"
   ]
  },
  {
   "cell_type": "code",
   "execution_count": 33,
   "id": "08aff0d4",
   "metadata": {},
   "outputs": [],
   "source": []
  }
 ],
 "metadata": {
  "kernelspec": {
   "display_name": "Python 3 (ipykernel)",
   "language": "python",
   "name": "python3"
  },
  "language_info": {
   "codemirror_mode": {
    "name": "ipython",
    "version": 3
   },
   "file_extension": ".py",
   "mimetype": "text/x-python",
   "name": "python",
   "nbconvert_exporter": "python",
   "pygments_lexer": "ipython3",
   "version": "3.9.7"
  }
 },
 "nbformat": 4,
 "nbformat_minor": 5
}
