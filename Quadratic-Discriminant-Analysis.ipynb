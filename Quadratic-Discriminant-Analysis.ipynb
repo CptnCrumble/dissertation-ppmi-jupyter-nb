{
 "cells": [
  {
   "cell_type": "code",
   "execution_count": 31,
   "id": "d1e09ef0",
   "metadata": {},
   "outputs": [],
   "source": [
    "import numpy as np\n",
    "import pandas as pd\n",
    "import random\n",
    "from sklearn.model_selection import train_test_split\n",
    "from sklearn.metrics import confusion_matrix\n",
    "from sklearn.discriminant_analysis import QuadraticDiscriminantAnalysis\n",
    "\n",
    "\n",
    "def build_confusion_matrix(dataset, model):\n",
    "        X_train, X_test, y_train, y_test = train_test_split(dataset.iloc[:, :-1], dataset.iloc[:, -1], test_size=0.25)\n",
    "        predictions = model.fit(X_train, y_train).predict(X_test)\n",
    "        tn, fn, fp, tp = confusion_matrix(predictions, y_test.values).ravel()\n",
    "        return {'true_negative': tn, 'false_negative': fn, 'false_positive': fp, 'true_positive': tp}\n",
    "\n",
    "def sensitivity(cm):\n",
    "    return cm['true_positive'] / (cm['true_positive'] + cm['false_negative'])\n",
    "\n",
    "def specificity(cm):\n",
    "    return cm['true_negative'] / ( cm['true_negative'] + cm['false_positive'] )\n",
    "\n",
    "def false_positive_rate(cm):\n",
    "    return (1.0 - (specificity(cm)) )\n",
    "\n",
    "def generate_scores(dataset, model):\n",
    "    specificity_scores = []\n",
    "    sensitivity_scores = []\n",
    "\n",
    "    for n in range(1000):\n",
    "        cm = build_confusion_matrix(dataset, model)\n",
    "        specificity_scores.append(specificity(cm))\n",
    "        sensitivity_scores.append(sensitivity(cm))\n",
    "    \n",
    "    spec_avg = pd.Series(specificity_scores).mean()\n",
    "    sens_avg = pd.Series(sensitivity_scores).mean()\n",
    "    \n",
    "    return {'specificity': spec_avg, 'sensitivity': sens_avg }\n",
    "\n",
    "def summarise_test(test):\n",
    "    x ='For {}, in model {}\\nAverage NO SIGFALL accuracy is {}\\nAverage SIGFALL accuracy is {}\\n---\\n'\n",
    "    print(x.format(test['data_name'],test['model'],test['specificity'],test['sensitivity']))\n",
    "\n",
    "def balance_data_set(dataset, classifier):\n",
    "    sigfall_indexes = dataset.index[dataset[classifier] == 0].to_list()\n",
    "    n_falls = len(dataset) - len(sigfall_indexes)\n",
    "    drop = len(sigfall_indexes) - n_falls\n",
    "    random.shuffle(sigfall_indexes)\n",
    "    drop_indexes = sigfall_indexes[0:drop]\n",
    "    return dataset.drop(drop_indexes)"
   ]
  },
  {
   "cell_type": "code",
   "execution_count": 20,
   "id": "fd6efa79",
   "metadata": {},
   "outputs": [],
   "source": [
    "# Load data sets\n",
    "inc_updrs_sigfall = pd.read_csv('./working_data/normalised_increase_updrs_sigfall.csv')\n",
    "inc_updrs_sigfall_b = balance_data_set(inc_updrs_sigfall, 'SIGFALL')\n",
    "inc_updrs_sigfall_raw = pd.read_csv('./working_data/normalised_increase_updrs_sigfall_raw.csv')\n",
    "\n",
    "datasets = [{'data':inc_updrs_sigfall, 'name':'inc_updrs_sigfall'}, \n",
    "            {'data':inc_updrs_sigfall_b, 'name':'inc_updrs_sigfall_b'}, \n",
    "            {'data':inc_updrs_sigfall_raw, 'name':'inc_updrs_sigfall_raw'}]"
   ]
  },
  {
   "cell_type": "code",
   "execution_count": 32,
   "id": "2fda4024",
   "metadata": {},
   "outputs": [
    {
     "name": "stdout",
     "output_type": "stream",
     "text": [
      "For inc_updrs_sigfall, in model QuadraticDiscriminantAnalysis(store_covariance=True)\n",
      "Average NO SIGFALL accuracy is 0.8499884722933039\n",
      "Average SIGFALL accuracy is 0.3925613621800571\n",
      "---\n",
      "\n",
      "For inc_updrs_sigfall_b, in model QuadraticDiscriminantAnalysis(store_covariance=True)\n",
      "Average NO SIGFALL accuracy is 0.6724109096717248\n",
      "Average SIGFALL accuracy is 0.6311259438789543\n",
      "---\n",
      "\n",
      "For inc_updrs_sigfall_raw, in model QuadraticDiscriminantAnalysis(store_covariance=True)\n",
      "Average NO SIGFALL accuracy is 0.8565858336741033\n",
      "Average SIGFALL accuracy is 0.3762746248325992\n",
      "---\n",
      "\n"
     ]
    }
   ],
   "source": [
    "models = [QuadraticDiscriminantAnalysis(store_covariance=True)]\n",
    "\n",
    "tests = []\n",
    "for m in models:\n",
    "    for d in datasets:\n",
    "        tests.append({\n",
    "            'data_name': d['name'],\n",
    "            'dataset': d['data'],\n",
    "            'model': m\n",
    "        })\n",
    "\n",
    "for t in tests:\n",
    "    s = generate_scores(dataset=t['dataset'], model=t['model'])\n",
    "    t['specificity'] = s['specificity']\n",
    "    t['sensitivity'] = s['sensitivity']\n",
    "    summarise_test(t)"
   ]
  },
  {
   "cell_type": "code",
   "execution_count": null,
   "id": "6c1778a4",
   "metadata": {},
   "outputs": [],
   "source": []
  }
 ],
 "metadata": {
  "kernelspec": {
   "display_name": "Python 3 (ipykernel)",
   "language": "python",
   "name": "python3"
  },
  "language_info": {
   "codemirror_mode": {
    "name": "ipython",
    "version": 3
   },
   "file_extension": ".py",
   "mimetype": "text/x-python",
   "name": "python",
   "nbconvert_exporter": "python",
   "pygments_lexer": "ipython3",
   "version": "3.9.7"
  }
 },
 "nbformat": 4,
 "nbformat_minor": 5
}
