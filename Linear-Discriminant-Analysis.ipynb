{
 "cells": [
  {
   "cell_type": "code",
   "execution_count": 90,
   "id": "749b57ea",
   "metadata": {},
   "outputs": [],
   "source": [
    "import numpy as np\n",
    "import pandas as pd\n",
    "import random\n",
    "from sklearn.model_selection import train_test_split\n",
    "from sklearn.metrics import confusion_matrix\n",
    "from sklearn.metrics import roc_curve, auc, roc_auc_score\n",
    "from sklearn.discriminant_analysis import LinearDiscriminantAnalysis\n",
    "\n",
    "inc_updrs_sigfall = pd.read_csv('./working_data/normalised_increase_updrs_sigfall.csv')\n",
    "\n",
    "def build_confusion_matrix(dataset, model):\n",
    "        X_train, X_test, y_train, y_test = train_test_split(dataset.iloc[:, :-1], dataset.iloc[:, -1], test_size=0.25)\n",
    "        predictions = model.fit(X_train, y_train).predict(X_test)\n",
    "        tn, fn, fp, tp = confusion_matrix(predictions, y_test.values).ravel()\n",
    "        return {'true_negative': tn, 'false_negative': fn, 'false_positive': fp, 'true_positive': tp}\n",
    "\n",
    "def sensitivity(cm):\n",
    "    return cm['true_positive'] / (cm['true_positive'] + cm['false_negative'])\n",
    "\n",
    "def specificity(cm):\n",
    "    return cm['true_negative'] / ( cm['true_negative'] + cm['false_positive'] )\n",
    "\n",
    "def false_positive_rate(cm):\n",
    "    return (1.0 - (specificity(cm)) )\n",
    "\n",
    "def generate_scores(dataset, model):\n",
    "    specificity_scores = []\n",
    "    sensitivity_scores = []\n",
    "\n",
    "    for n in range(1000):\n",
    "        cm = build_confusion_matrix(dataset, model)\n",
    "        specificity_scores.append(specificity(cm))\n",
    "        sensitivity_scores.append(sensitivity(cm))\n",
    "    \n",
    "    spec_avg = pd.Series(specificity_scores).mean()\n",
    "    sens_avg = pd.Series(sensitivity_scores).mean()\n",
    "    \n",
    "    return {'specificity': spec_avg, 'sensitivity': sens_avg }\n"
   ]
  },
  {
   "cell_type": "code",
   "execution_count": null,
   "id": "596aba1c",
   "metadata": {},
   "outputs": [],
   "source": [
    "# ------------ inc_updrs_sigfall data ----------------"
   ]
  },
  {
   "cell_type": "code",
   "execution_count": 92,
   "id": "b873d77b",
   "metadata": {},
   "outputs": [],
   "source": [
    "# Create a model for each of the 3 solvers\n",
    "\n",
    "# Solver 1 : Singular value decomposition\n",
    "svd_scores = generate_scores(inc_updrs_sigfall, LinearDiscriminantAnalysis(solver=\"svd\"))\n",
    "\n",
    "# Solver 2 : Least squares solution\n",
    "lsqr_scores = generate_scores(inc_updrs_sigfall, LinearDiscriminantAnalysis(solver=\"lsqr\"))\n",
    "\n",
    "# Solver 3 : Eigenvalue decomposition\n",
    "eigen_scores = generate_scores(inc_updrs_sigfall, LinearDiscriminantAnalysis(solver=\"eigen\"))"
   ]
  },
  {
   "cell_type": "code",
   "execution_count": 98,
   "id": "eab11f1b",
   "metadata": {},
   "outputs": [
    {
     "name": "stdout",
     "output_type": "stream",
     "text": [
      "--- eigen ---\n",
      "{'specificity': 0.9779883259112319, 'sensitivity': 0.11967697968324059}\n",
      "\n",
      "--- lsqr ---\n",
      "{'specificity': 0.9783092911651454, 'sensitivity': 0.12068654609236211}\n",
      "\n",
      "--- svd ---\n",
      "{'specificity': 0.9779469427828729, 'sensitivity': 0.12066162632706832}\n"
     ]
    }
   ],
   "source": [
    "print('--- eigen ---')\n",
    "print(eigen_scores)\n",
    "print('\\n--- lsqr ---')\n",
    "print(lsqr_scores)\n",
    "print('\\n--- svd ---')\n",
    "print(svd_scores)"
   ]
  },
  {
   "cell_type": "code",
   "execution_count": 102,
   "id": "3b067367",
   "metadata": {},
   "outputs": [],
   "source": [
    "\n",
    "# ------------ inc_updrs_sigfall_raw data ----------------"
   ]
  },
  {
   "cell_type": "code",
   "execution_count": 99,
   "id": "f294d9c7",
   "metadata": {},
   "outputs": [],
   "source": [
    "inc_updrs_sigfall_raw = pd.read_csv('./working_data/normalised_increase_updrs_sigfall_raw.csv')\n",
    "\n",
    "\n",
    "\n",
    "# Solver 1 : Singular value decomposition\n",
    "svd_scores_raw = generate_scores(inc_updrs_sigfall_raw, LinearDiscriminantAnalysis(solver=\"svd\"))\n",
    "\n",
    "# Solver 2 : Least squares solution\n",
    "lsqr_scores_raw = generate_scores(inc_updrs_sigfall_raw, LinearDiscriminantAnalysis(solver=\"lsqr\"))\n",
    "\n",
    "# Solver 3 : Eigenvalue decomposition\n",
    "eigen_scores_raw = generate_scores(inc_updrs_sigfall_raw, LinearDiscriminantAnalysis(solver=\"eigen\"))"
   ]
  },
  {
   "cell_type": "code",
   "execution_count": 101,
   "id": "9a162541",
   "metadata": {},
   "outputs": [
    {
     "name": "stdout",
     "output_type": "stream",
     "text": [
      "--- eigen ---\n",
      "{'specificity': 0.9792370559936376, 'sensitivity': 0.11323439981334102}\n",
      "\n",
      "--- lsqr ---\n",
      "{'specificity': 0.9787811376469111, 'sensitivity': 0.1141919351809565}\n",
      "\n",
      "--- svd ---\n",
      "{'specificity': 0.9795701965004964, 'sensitivity': 0.11433337281537215}\n"
     ]
    }
   ],
   "source": [
    "print('--- eigen ---')\n",
    "print(eigen_scores_raw)\n",
    "print('\\n--- lsqr ---')\n",
    "print(lsqr_scores_raw)\n",
    "print('\\n--- svd ---')\n",
    "print(svd_scores_raw)\n"
   ]
  }
 ],
 "metadata": {
  "kernelspec": {
   "display_name": "Python 3 (ipykernel)",
   "language": "python",
   "name": "python3"
  },
  "language_info": {
   "codemirror_mode": {
    "name": "ipython",
    "version": 3
   },
   "file_extension": ".py",
   "mimetype": "text/x-python",
   "name": "python",
   "nbconvert_exporter": "python",
   "pygments_lexer": "ipython3",
   "version": "3.9.7"
  }
 },
 "nbformat": 4,
 "nbformat_minor": 5
}
