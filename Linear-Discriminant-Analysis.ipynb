{
 "cells": [
  {
   "cell_type": "code",
   "execution_count": 2,
   "id": "749b57ea",
   "metadata": {},
   "outputs": [],
   "source": [
    "import numpy as np\n",
    "import pandas as pd\n",
    "import random\n",
    "from sklearn.model_selection import train_test_split\n",
    "from sklearn.metrics import roc_curve, auc, roc_auc_score\n",
    "from sklearn.discriminant_analysis import LinearDiscriminantAnalysis\n",
    "\n",
    "inc_updrs_sigfall = pd.read_csv('./working_data/normalised_increase_updrs_sigfall.csv')"
   ]
  },
  {
   "cell_type": "code",
   "execution_count": null,
   "id": "596aba1c",
   "metadata": {},
   "outputs": [],
   "source": [
    "# ------------ inc_updrs_sigfall data ----------------"
   ]
  },
  {
   "cell_type": "code",
   "execution_count": 67,
   "id": "b873d77b",
   "metadata": {},
   "outputs": [],
   "source": [
    "# Create a model for each of the 3 solvers\n",
    "# Solver 1 : Singular value decomposition\n",
    "\n",
    "svd_auc_scores = []\n",
    "svd_model = LinearDiscriminantAnalysis()\n",
    "for n in range(1000):\n",
    "    X_train, X_test, y_train, y_test = train_test_split(inc_updrs_sigfall.iloc[:, :-1], inc_updrs_sigfall.iloc[:, -1], test_size=0.1)\n",
    "    y_score = svd_model.fit(X_train, y_train).decision_function(X_test)\n",
    "    svd_auc_scores.append(roc_auc_score(y_test.ravel(), y_score.ravel()))\n",
    "\n",
    "#svd_auc_scores"
   ]
  },
  {
   "cell_type": "code",
   "execution_count": 18,
   "id": "eab11f1b",
   "metadata": {},
   "outputs": [],
   "source": [
    "# Solver 2 : Least squares solution\n",
    "\n",
    "lsqr_auc_scores = []\n",
    "lsqr_model = LinearDiscriminantAnalysis(solver=\"lsqr\")\n",
    "for n in range(1000):\n",
    "    X_train, X_test, y_train, y_test = train_test_split(inc_updrs_sigfall.iloc[:, :-1], inc_updrs_sigfall.iloc[:, -1], test_size=0.1)\n",
    "    y_score = svd_model.fit(X_train, y_train).decision_function(X_test)\n",
    "    lsqr_auc_scores.append(roc_auc_score(y_test.ravel(), y_score.ravel()))\n",
    "    \n",
    "    "
   ]
  },
  {
   "cell_type": "code",
   "execution_count": 20,
   "id": "d20a5c84",
   "metadata": {},
   "outputs": [],
   "source": [
    "# Solver 3 : Eigenvalue decomposition\n",
    "\n",
    "eigen_auc_scores = []\n",
    "eigen_model = LinearDiscriminantAnalysis(solver=\"eigen\")\n",
    "for n in range(1000):\n",
    "    X_train, X_test, y_train, y_test = train_test_split(inc_updrs_sigfall.iloc[:, :-1], inc_updrs_sigfall.iloc[:, -1], test_size=0.1)\n",
    "    y_score = eigen_model.fit(X_train, y_train).decision_function(X_test)\n",
    "    eigen_auc_scores.append(roc_auc_score(y_test.ravel(), y_score.ravel()))"
   ]
  },
  {
   "cell_type": "code",
   "execution_count": 72,
   "id": "d3108dc6",
   "metadata": {},
   "outputs": [
    {
     "data": {
      "image/png": "[encoded data removed]",
      "text/plain": [
       "<Figure size 432x288 with 1 Axes>"
      ]
     },
     "metadata": {
      "needs_background": "light"
     },
     "output_type": "display_data"
    }
   ],
   "source": [
    "import matplotlib.pyplot as plt\n",
    "\n",
    "\n",
    "n, bins, patches = plt.hist([svd_auc_scores,lsqr_auc_scores,eigen_auc_scores], bins=10)\n",
    "\n",
    "plt.xlabel('AUC')\n",
    "plt.ylabel('Count')\n",
    "plt.title('Distribution of AUC scores')\n",
    "plt.grid(True)\n",
    "plt.show()"
   ]
  },
  {
   "cell_type": "code",
   "execution_count": 68,
   "id": "02d0b6ce",
   "metadata": {},
   "outputs": [
    {
     "name": "stdout",
     "output_type": "stream",
     "text": [
      "--- svd ---\n",
      "count    1000.000000\n",
      "mean        0.723549\n",
      "std         0.072060\n",
      "min         0.461423\n",
      "25%         0.681067\n",
      "50%         0.725747\n",
      "75%         0.774945\n",
      "max         0.937951\n",
      "dtype: float64\n",
      "\n",
      "--- eigen ---\n",
      "count    100.000000\n",
      "mean       0.721144\n",
      "std        0.074358\n",
      "min        0.561841\n",
      "25%        0.664016\n",
      "50%        0.721577\n",
      "75%        0.776050\n",
      "max        0.867117\n",
      "dtype: float64\n",
      "\n",
      "--- lsqr ---\n",
      "count    100.000000\n",
      "mean       0.705260\n",
      "std        0.071459\n",
      "min        0.521795\n",
      "25%        0.650563\n",
      "50%        0.718058\n",
      "75%        0.754160\n",
      "max        0.869935\n",
      "dtype: float64\n"
     ]
    }
   ],
   "source": [
    "print('--- svd ---')\n",
    "print(pd.Series(svd_auc_scores).describe())\n",
    "print('\\n--- eigen ---')\n",
    "print(pd.Series(eigen_auc_scores).describe())\n",
    "print('\\n--- lsqr ---')\n",
    "print(pd.Series(lsqr_auc_scores).describe())\n"
   ]
  },
  {
   "cell_type": "code",
   "execution_count": 59,
   "id": "3b067367",
   "metadata": {},
   "outputs": [],
   "source": [
    "# svd appears most accurate for this data\n",
    "\n",
    "\n",
    "# ------------ inc_updrs_sigfall_raw data ----------------"
   ]
  },
  {
   "cell_type": "code",
   "execution_count": 69,
   "id": "f294d9c7",
   "metadata": {},
   "outputs": [
    {
     "data": {
      "text/plain": [
       "count    1000.000000\n",
       "mean        0.706029\n",
       "std         0.075129\n",
       "min         0.438645\n",
       "25%         0.656136\n",
       "50%         0.710068\n",
       "75%         0.757883\n",
       "max         0.907967\n",
       "dtype: float64"
      ]
     },
     "execution_count": 69,
     "metadata": {},
     "output_type": "execute_result"
    }
   ],
   "source": [
    "inc_updrs_sigfall_raw = pd.read_csv('./working_data/normalised_increase_updrs_sigfall_raw.csv')\n",
    "\n",
    "# Solver 1 : Singular value decomposition\n",
    "\n",
    "raw_svd_auc_scores = []\n",
    "raw_svd_model = LinearDiscriminantAnalysis()\n",
    "for n in range(1000):\n",
    "    X_train, X_test, y_train, y_test = train_test_split(inc_updrs_sigfall_raw.iloc[:, :-1], inc_updrs_sigfall_raw.iloc[:, -1], test_size=0.1)\n",
    "    y_score = raw_svd_model.fit(X_train, y_train).decision_function(X_test)\n",
    "    raw_svd_auc_scores.append(roc_auc_score(y_test.ravel(), y_score.ravel()))\n",
    "    \n",
    "    \n",
    "pd.Series(raw_svd_auc_scores).describe()"
   ]
  },
  {
   "cell_type": "code",
   "execution_count": 71,
   "id": "9a162541",
   "metadata": {},
   "outputs": [
    {
     "data": {
      "text/plain": [
       "125     1.0\n",
       "205     0.0\n",
       "369     0.0\n",
       "520     0.0\n",
       "26      0.0\n",
       "       ... \n",
       "1248    0.0\n",
       "1131    0.0\n",
       "684     0.0\n",
       "1063    0.0\n",
       "517     0.0\n",
       "Name: SIGFALL, Length: 1462, dtype: float64"
      ]
     },
     "execution_count": 71,
     "metadata": {},
     "output_type": "execute_result"
    }
   ],
   "source": [
    "# Conclusions:\n",
    "# inc_updrs_sigfall > inc_updrs_sigfall_raw\n",
    "# Optimum model is svd_model\n"
   ]
  }
 ],
 "metadata": {
  "kernelspec": {
   "display_name": "Python 3 (ipykernel)",
   "language": "python",
   "name": "python3"
  },
  "language_info": {
   "codemirror_mode": {
    "name": "ipython",
    "version": 3
   },
   "file_extension": ".py",
   "mimetype": "text/x-python",
   "name": "python",
   "nbconvert_exporter": "python",
   "pygments_lexer": "ipython3",
   "version": "3.9.7"
  }
 },
 "nbformat": 4,
 "nbformat_minor": 5
}
