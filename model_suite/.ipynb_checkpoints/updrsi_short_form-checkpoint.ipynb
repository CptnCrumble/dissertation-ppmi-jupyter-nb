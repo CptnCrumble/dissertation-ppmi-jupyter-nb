{
 "cells": [
  {
   "cell_type": "code",
   "execution_count": 35,
   "id": "74908cfa-5994-492c-af4f-ffd17c07013f",
   "metadata": {},
   "outputs": [],
   "source": [
    "import math\n",
    "import numpy as np\n",
    "from sklearn.model_selection import GridSearchCV, StratifiedKFold\n",
    "\n",
    "# short form for now\n",
    "original_data = np.genfromtxt('../working_data/updrsii_short_form.csv', delimiter=',', skip_header=True)\n",
    "n_rows, n_columns = original_data.shape\n",
    "\n",
    "data = original_data[:,0:(n_columns - 1)]\n",
    "labels = original_data[:,(n_columns - 1)]\n",
    "\n",
    "overall_results = []"
   ]
  },
  {
   "cell_type": "code",
   "execution_count": 44,
   "id": "1706ec55-687f-459f-a7fa-71afd1b63430",
   "metadata": {},
   "outputs": [],
   "source": [
    "# Gaussian Naive Bayes\n",
    "from sklearn.naive_bayes import GaussianNB\n",
    "\n",
    "cv = StratifiedKFold(n_splits=10, shuffle=True)\n",
    "gnb_results = []\n",
    "\n",
    "for train, test in cv.split(data,labels):\n",
    "    x_train = data[train]\n",
    "    x_test = data[test]\n",
    "    y_train = labels[train]\n",
    "    y_test = labels[test]\n",
    "    \n",
    "    # normalise OR standardise here where applicable\n",
    "    \n",
    "    parameters = {'priors':[[0.01,0.99], [0.2,0.8], [0.3,0.7], [0.7,0.3], [0.75,0.25] ,[0.8,0.2], [0.01,0.99]]}\n",
    "    gnb = GaussianNB()\n",
    "    clf = GridSearchCV(gnb, parameters, scoring=\"roc_auc\")\n",
    "    clf.fit(x_train, y_train)    \n",
    "    opt_prior = clf.best_params_['priors']\n",
    "    \n",
    "    gnb = GaussianNB(priors=opt_prior).fit(x_train,y_train)\n",
    "    predictions = gnb.predict(x_test)\n",
    "    # gather up some metrics from https://scikit-learn.org/stable/modules/model_evaluation.html#confusion-matrix\n",
    "    \n",
    "    \n"
   ]
  },
  {
   "cell_type": "code",
   "execution_count": 45,
   "id": "4cdc0033-b417-43ac-a27e-5523e6d3c615",
   "metadata": {},
   "outputs": [
    {
     "data": {
      "text/plain": [
       "[{'priors': [0.01, 0.99]},\n",
       " {'priors': [0.01, 0.99]},\n",
       " {'priors': [0.01, 0.99]},\n",
       " {'priors': [0.01, 0.99]},\n",
       " {'priors': [0.01, 0.99]},\n",
       " {'priors': [0.01, 0.99]},\n",
       " {'priors': [0.01, 0.99]},\n",
       " {'priors': [0.01, 0.99]},\n",
       " {'priors': [0.01, 0.99]},\n",
       " {'priors': [0.01, 0.99]}]"
      ]
     },
     "execution_count": 45,
     "metadata": {},
     "output_type": "execute_result"
    }
   ],
   "source": [
    "# Random Forest\n",
    "from sklearn.ensemble import RandomForestClassifier\n",
    "\n",
    "from sklearn.metrics import get_scorer_names\n",
    "gnb_results"
   ]
  },
  {
   "cell_type": "code",
   "execution_count": null,
   "id": "cbeda9bc-3c54-4742-a4f9-b188d4227a19",
   "metadata": {},
   "outputs": [],
   "source": [
    "\n",
    "\n"
   ]
  }
 ],
 "metadata": {
  "kernelspec": {
   "display_name": "Python 3 (ipykernel)",
   "language": "python",
   "name": "python3"
  },
  "language_info": {
   "codemirror_mode": {
    "name": "ipython",
    "version": 3
   },
   "file_extension": ".py",
   "mimetype": "text/x-python",
   "name": "python",
   "nbconvert_exporter": "python",
   "pygments_lexer": "ipython3",
   "version": "3.8.13"
  }
 },
 "nbformat": 4,
 "nbformat_minor": 5
}
