{
 "cells": [
  {
   "cell_type": "code",
   "execution_count": 104,
   "id": "74908cfa-5994-492c-af4f-ffd17c07013f",
   "metadata": {},
   "outputs": [],
   "source": [
    "import math\n",
    "import numpy as np\n",
    "from sklearn.model_selection import StratifiedKFold\n",
    "from sklearn.preprocessing import StandardScaler\n",
    "\n",
    "# short form for now\n",
    "original_data = np.genfromtxt('../working_data/updrsii_short_form.csv', delimiter=',', skip_header=True)\n",
    "n_rows, n_columns = original_data.shape\n",
    "\n",
    "data = original_data[:,0:(n_columns - 1)]\n",
    "labels = original_data[:,(n_columns - 1)]\n",
    "\n",
    "scaler = StandardScaler().fit(data)\n",
    "data_standardized = scaler.transform(data)\n",
    "\n",
    "cross_fold_validations = StratifiedKFold(n_splits=10, shuffle=True)\n",
    "\n",
    "overall_results = []"
   ]
  },
  {
   "cell_type": "code",
   "execution_count": 106,
   "id": "55c1236f-5f68-4444-a31b-f9e095044529",
   "metadata": {},
   "outputs": [],
   "source": [
    "from sklearn.metrics import f1_score, roc_auc_score, precision_score, recall_score\n",
    "\n",
    "class Model:\n",
    "    def __init__(self,name,ml_model):\n",
    "        self.name = name\n",
    "        self.model = ml_model\n",
    "        self.f1_scores = []\n",
    "        self.roc_auc_scores = []\n",
    "        self.precision_scores = []\n",
    "        self.recall_scores = []\n",
    "        \n",
    "    def add_f1(self,x):\n",
    "        self.f1_scores.append(x)\n",
    "        \n",
    "    def add_roc(self,x):\n",
    "        self.roc_auc_scores.append(x)\n",
    "        \n",
    "    def add_precision(self,x):\n",
    "        self.precision_scores.append(x)\n",
    "        \n",
    "    def add_recall(self,x):\n",
    "        self.recall_scores.append(x)\n",
    "\n",
    "def model_runner(model_list):\n",
    "    for train, test in cross_fold_validations.split(data,labels):\n",
    "        x_train = data[train]\n",
    "        x_test = data[test]\n",
    "        y_train = labels[train]\n",
    "        y_test = labels[test]\n",
    "\n",
    "        for m in model_list:\n",
    "            m.model.fit(x_train,y_train)\n",
    "            predictions = m.model.predict(x_test)\n",
    "            roc_auc = roc_auc_score(y_test, predictions)\n",
    "            f1 = f1_score(y_test,predictions)\n",
    "            precision = precision_score(y_test, predictions)\n",
    "            recall = recall_score(y_test, predictions)\n",
    "            m.add_f1(f1)\n",
    "            m.add_roc(roc_auc)\n",
    "            m.add_precision(precision)\n",
    "            m.add_recall(recall)\n",
    "            \n",
    "def model_runner_standardized(model_list):\n",
    "    for train, test in cross_fold_validations.split(data,labels):\n",
    "        x_train = data_standardized[train]\n",
    "        x_test = data_standardized[test]\n",
    "        y_train = labels[train]\n",
    "        y_test = labels[test]\n",
    "\n",
    "        for m in model_list:\n",
    "            m.model.fit(x_train,y_train)\n",
    "            predictions = m.model.predict(x_test)\n",
    "            roc_auc = roc_auc_score(y_test, predictions)\n",
    "            f1 = f1_score(y_test,predictions)\n",
    "            precision = precision_score(y_test, predictions)\n",
    "            recall = recall_score(y_test, predictions)\n",
    "            m.add_f1(f1)\n",
    "            m.add_roc(roc_auc)\n",
    "            m.add_precision(precision)\n",
    "            m.add_recall(recall)\n",
    "        "
   ]
  },
  {
   "cell_type": "code",
   "execution_count": 81,
   "id": "f7d39115-273b-488b-8749-9f6313b9fc3b",
   "metadata": {},
   "outputs": [],
   "source": [
    "# Gaussian Naive Bayes\n",
    "from sklearn.naive_bayes import GaussianNB\n",
    "\n",
    "gnb_models = [ \n",
    "              Model('GNB1',GaussianNB(priors=[0.1,0.9])), \n",
    "              Model('GNB2', GaussianNB(priors=[0.2,0.8])),\n",
    "              Model('GNB3', GaussianNB(priors=[0.3,0.7])),\n",
    "              Model('GNB4', GaussianNB(priors=[0.4,0.6])),\n",
    "              Model('GNB5', GaussianNB(priors=[0.5,0.5])),\n",
    "              Model('GNB6', GaussianNB(priors=[0.6,0.4])),\n",
    "              Model('GNB7', GaussianNB(priors=[0.7,0.3])),\n",
    "              Model('GNB8', GaussianNB(priors=[0.8,0.2])),\n",
    "              Model('GNB9', GaussianNB(priors=[0.9,0.1])),\n",
    "             ]\n",
    "model_runner(gnb_models)\n"
   ]
  },
  {
   "cell_type": "code",
   "execution_count": 101,
   "id": "cbeda9bc-3c54-4742-a4f9-b188d4227a19",
   "metadata": {},
   "outputs": [
    {
     "data": {
      "text/plain": [
       "[0.16666666666666666,\n",
       " 0.6666666666666666,\n",
       " 0.3333333333333333,\n",
       " 0.3333333333333333,\n",
       " 0.4,\n",
       " 0.0,\n",
       " 0.0,\n",
       " 0.2,\n",
       " 0.8,\n",
       " 0.4]"
      ]
     },
     "execution_count": 101,
     "metadata": {},
     "output_type": "execute_result"
    }
   ],
   "source": [
    "gnb_models[8].recall_scores\n",
    "# need some selection method\n",
    "# try plotting this f1 vs roc; prec vs recall\n",
    "# average statistics ?"
   ]
  },
  {
   "cell_type": "code",
   "execution_count": 108,
   "id": "d7d2a5ee-a0f9-4b96-b276-5bf4f51f6f81",
   "metadata": {},
   "outputs": [],
   "source": [
    "# Linear Discriminant Analysis\n",
    "\n",
    "from sklearn.discriminant_analysis import LinearDiscriminantAnalysis\n",
    "\n",
    "lda_models = [\n",
    "    Model('LDA1', LinearDiscriminantAnalysis(solver='svd', priors=[0.25,0.75])),\n",
    "    Model('LDA2', LinearDiscriminantAnalysis(solver='svd', priors=[0.5,0.5])),\n",
    "    Model('LDA3', LinearDiscriminantAnalysis(solver='svd', priors=[0.75,0.25])),\n",
    "    Model('LDA4', LinearDiscriminantAnalysis(solver='eigen', priors=[0.25,0.75])),\n",
    "    Model('LDA5', LinearDiscriminantAnalysis(solver='eigen', priors=[0.5,0.5])),\n",
    "    Model('LDA6', LinearDiscriminantAnalysis(solver='eigen', priors=[0.75,0.25])),\n",
    "    Model('LDA7', LinearDiscriminantAnalysis(solver='lsqr', priors=[0.25,0.75])),\n",
    "    Model('LDA8', LinearDiscriminantAnalysis(solver='lsqr', priors=[0.5,0.5])),\n",
    "    Model('LDA9', LinearDiscriminantAnalysis(solver='lsqr', priors=[0.75,0.25])),\n",
    "]\n",
    "\n",
    "model_runner_standardized(lda_models)"
   ]
  },
  {
   "cell_type": "code",
   "execution_count": 115,
   "id": "920825e1-343b-4d51-9d2b-57af8f12125b",
   "metadata": {},
   "outputs": [
    {
     "data": {
      "text/plain": [
       "[0.0,\n",
       " 0.4,\n",
       " 0.16666666666666666,\n",
       " 0.4615384615384615,\n",
       " 0.25000000000000006,\n",
       " 0.33333333333333337,\n",
       " 0.3157894736842105,\n",
       " 0.3076923076923077,\n",
       " 0.35294117647058826,\n",
       " 0.37499999999999994]"
      ]
     },
     "execution_count": 115,
     "metadata": {},
     "output_type": "execute_result"
    }
   ],
   "source": [
    "lda_models[4].f1_scores"
   ]
  },
  {
   "cell_type": "code",
   "execution_count": null,
   "id": "f4522626-93ef-42d5-8eb2-4c1f0bd70ae3",
   "metadata": {},
   "outputs": [],
   "source": [
    "# Quadratic Discriminant Analysis\n",
    "\n",
    "from sklearn.discriminant_analysis import QuadraticDiscriminantAnalysis\n",
    "\n",
    "qda_models = "
   ]
  },
  {
   "cell_type": "code",
   "execution_count": 48,
   "id": "4cdc0033-b417-43ac-a27e-5523e6d3c615",
   "metadata": {},
   "outputs": [],
   "source": [
    "# Random Forest\n",
    "from sklearn.ensemble import RandomForestClassifier\n"
   ]
  }
 ],
 "metadata": {
  "kernelspec": {
   "display_name": "Python 3 (ipykernel)",
   "language": "python",
   "name": "python3"
  },
  "language_info": {
   "codemirror_mode": {
    "name": "ipython",
    "version": 3
   },
   "file_extension": ".py",
   "mimetype": "text/x-python",
   "name": "python",
   "nbconvert_exporter": "python",
   "pygments_lexer": "ipython3",
   "version": "3.8.13"
  }
 },
 "nbformat": 4,
 "nbformat_minor": 5
}
