{
 "cells": [
  {
   "cell_type": "code",
   "execution_count": 2,
   "id": "3c2bcafe",
   "metadata": {},
   "outputs": [],
   "source": [
    "import pandas\n",
    "\n",
    "data_dictionary = pandas.read_csv('Data_Dictionary_-_Harmonized.csv')\n",
    "\n",
    "def definerer(itm_name):\n",
    "    tmp = data_dictionary[data_dictionary['ITM_NAME'] == itm_name]\n",
    "    if tmp.size > 0:\n",
    "        print(itm_name)\n",
    "        print(tmp.iloc[0]['DSCR'])\n",
    "        print('---')\n",
    "    else:\n",
    "        print(itm_name + ' not in data dictionary\\n---')\n",
    "\n",
    "def df_deets(dframe):\n",
    "    for x in dframe.columns:\n",
    "        definerer(x)\n",
    "        \n",
    "def make_a_set(dframe,column):\n",
    "    output = set()\n",
    "    for x in dframe[column]:\n",
    "        output.add(x)\n",
    "    return output"
   ]
  },
  {
   "cell_type": "code",
   "execution_count": 4,
   "id": "a917da98",
   "metadata": {},
   "outputs": [],
   "source": [
    "updrs_ii = pandas.read_csv('MDS_UPDRS_Part_II__Patient_Questionnaire.csv')\n",
    "falls = pandas.read_csv('Determination_of_Freezing_and_Falls.csv')"
   ]
  },
  {
   "cell_type": "code",
   "execution_count": 30,
   "id": "16af0868",
   "metadata": {},
   "outputs": [],
   "source": [
    "# --- Get a collection of PATNO's that exist in both ---\n",
    "set_updrs = make_a_set(updrs_ii,'PATNO')\n",
    "set_falls = make_a_set(falls,'PATNO')\n",
    "shared = list(set_updrs.intersection(set_falls))\n",
    "\n",
    "# subset for prototyping\n",
    "#test = shared[0:1]\n",
    "test = [shared[0]]\n",
    "test_updrs = updrs_ii.loc[updrs_ii.PATNO.isin(test)]\n",
    "test_fall = falls.loc[falls.PATNO.isin(test)]\n"
   ]
  },
  {
   "cell_type": "code",
   "execution_count": 18,
   "id": "acebb7ea",
   "metadata": {},
   "outputs": [],
   "source": [
    "# --- Any non-fallers in the falls db ? ---\n",
    "# df_deets(falls)\n",
    "# falls.head()\n",
    "\n",
    "# Answer: Yes, proceed"
   ]
  },
  {
   "cell_type": "code",
   "execution_count": null,
   "id": "684bc52b",
   "metadata": {},
   "outputs": [],
   "source": [
    "# f(x) : PATNO,date -> fall within 12months?\n",
    "# yes but WHAT IS a fall ??"
   ]
  },
  {
   "cell_type": "code",
   "execution_count": null,
   "id": "61f10b53",
   "metadata": {},
   "outputs": [],
   "source": [
    "# --- Do the dates match up ?\n",
    "# yes\n",
    "\n",
    "print(make_a_set(test_updrs,'PATNO'))\n",
    "print(make_a_set(test_updrs,'INFODT'))\n",
    "print(make_a_set(test_fall,'INFODT'))"
   ]
  }
 ],
 "metadata": {
  "kernelspec": {
   "display_name": "Python 3 (ipykernel)",
   "language": "python",
   "name": "python3"
  },
  "language_info": {
   "codemirror_mode": {
    "name": "ipython",
    "version": 3
   },
   "file_extension": ".py",
   "mimetype": "text/x-python",
   "name": "python",
   "nbconvert_exporter": "python",
   "pygments_lexer": "ipython3",
   "version": "3.9.7"
  }
 },
 "nbformat": 4,
 "nbformat_minor": 5
}
