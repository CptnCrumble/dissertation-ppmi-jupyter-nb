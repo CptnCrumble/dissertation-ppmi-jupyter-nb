{
 "cells": [
  {
   "cell_type": "code",
   "execution_count": 28,
   "id": "ce64f794",
   "metadata": {},
   "outputs": [],
   "source": [
    "import numpy as np\n",
    "import pandas as pd\n",
    "\n",
    "from sklearn.decomposition import PCA\n",
    "from sklearn.decomposition import TruncatedSVD\n",
    "from sklearn.manifold import TSNE\n",
    "\n",
    "# Only using raw data\n",
    "updrs_sigfall_raw = pd.read_csv('./working_data/normalised_updrs_sigfall_raw.csv')\n",
    "updrs_future_sigfall_raw = pd.read_csv('./working_data/normalised_updrs_future_sigfall_raw.csv')\n",
    "inc_updrs_sigfall_raw = pd.read_csv('./working_data/normalised_increase_updrs_sigfall_raw.csv')\n",
    "delta_updrs_sigfall_raw = pd.read_csv('./working_data/normalised_delta_updrs_sigfall_raw.csv')\n",
    "\n",
    "raw_data_sources = {'updrs_sigfall_raw': updrs_sigfall_raw,\n",
    "                    'updrs_future_sigfall_raw': updrs_future_sigfall_raw,\n",
    "                    'inc_updrs_sigfall_raw': inc_updrs_sigfall_raw,\n",
    "                    'delta_updrs_sigfall_raw': delta_updrs_sigfall_raw }"
   ]
  },
  {
   "cell_type": "markdown",
   "id": "95a7e419",
   "metadata": {},
   "source": [
    "## PCA"
   ]
  },
  {
   "cell_type": "code",
   "execution_count": 25,
   "id": "c417aee7",
   "metadata": {},
   "outputs": [
    {
     "data": {
      "text/html": [
       "<div>\n",
       "<style scoped>\n",
       "    .dataframe tbody tr th:only-of-type {\n",
       "        vertical-align: middle;\n",
       "    }\n",
       "\n",
       "    .dataframe tbody tr th {\n",
       "        vertical-align: top;\n",
       "    }\n",
       "\n",
       "    .dataframe thead th {\n",
       "        text-align: right;\n",
       "    }\n",
       "</style>\n",
       "<table border=\"1\" class=\"dataframe\">\n",
       "  <thead>\n",
       "    <tr style=\"text-align: right;\">\n",
       "      <th></th>\n",
       "      <th>NP2SPCH</th>\n",
       "      <th>NP2SALV</th>\n",
       "      <th>NP2SWAL</th>\n",
       "      <th>NP2EAT</th>\n",
       "      <th>NP2DRES</th>\n",
       "      <th>NP2HYGN</th>\n",
       "      <th>NP2HWRT</th>\n",
       "      <th>NP2HOBB</th>\n",
       "      <th>NP2TURN</th>\n",
       "      <th>NP2TRMR</th>\n",
       "      <th>NP2RISE</th>\n",
       "      <th>NP2WALK</th>\n",
       "      <th>NP2FREZ</th>\n",
       "      <th>SIGFALL</th>\n",
       "    </tr>\n",
       "  </thead>\n",
       "  <tbody>\n",
       "    <tr>\n",
       "      <th>0</th>\n",
       "      <td>0.00</td>\n",
       "      <td>0.00</td>\n",
       "      <td>0.00</td>\n",
       "      <td>0.00</td>\n",
       "      <td>0.0</td>\n",
       "      <td>0.00</td>\n",
       "      <td>0.00</td>\n",
       "      <td>0.0</td>\n",
       "      <td>0.00</td>\n",
       "      <td>0.00</td>\n",
       "      <td>0.0</td>\n",
       "      <td>0.00</td>\n",
       "      <td>0.0</td>\n",
       "      <td>0.0</td>\n",
       "    </tr>\n",
       "    <tr>\n",
       "      <th>1</th>\n",
       "      <td>0.00</td>\n",
       "      <td>0.00</td>\n",
       "      <td>0.00</td>\n",
       "      <td>0.00</td>\n",
       "      <td>0.0</td>\n",
       "      <td>0.00</td>\n",
       "      <td>0.00</td>\n",
       "      <td>0.0</td>\n",
       "      <td>0.00</td>\n",
       "      <td>0.00</td>\n",
       "      <td>0.0</td>\n",
       "      <td>0.00</td>\n",
       "      <td>0.0</td>\n",
       "      <td>0.0</td>\n",
       "    </tr>\n",
       "    <tr>\n",
       "      <th>2</th>\n",
       "      <td>0.00</td>\n",
       "      <td>0.00</td>\n",
       "      <td>0.00</td>\n",
       "      <td>0.25</td>\n",
       "      <td>0.5</td>\n",
       "      <td>0.25</td>\n",
       "      <td>0.50</td>\n",
       "      <td>0.5</td>\n",
       "      <td>0.25</td>\n",
       "      <td>0.50</td>\n",
       "      <td>0.5</td>\n",
       "      <td>0.00</td>\n",
       "      <td>0.0</td>\n",
       "      <td>0.0</td>\n",
       "    </tr>\n",
       "    <tr>\n",
       "      <th>3</th>\n",
       "      <td>0.25</td>\n",
       "      <td>0.00</td>\n",
       "      <td>0.25</td>\n",
       "      <td>0.25</td>\n",
       "      <td>0.5</td>\n",
       "      <td>0.25</td>\n",
       "      <td>0.50</td>\n",
       "      <td>0.5</td>\n",
       "      <td>0.25</td>\n",
       "      <td>0.50</td>\n",
       "      <td>0.5</td>\n",
       "      <td>0.25</td>\n",
       "      <td>0.0</td>\n",
       "      <td>1.0</td>\n",
       "    </tr>\n",
       "    <tr>\n",
       "      <th>4</th>\n",
       "      <td>0.50</td>\n",
       "      <td>0.75</td>\n",
       "      <td>0.25</td>\n",
       "      <td>0.50</td>\n",
       "      <td>0.5</td>\n",
       "      <td>0.25</td>\n",
       "      <td>0.75</td>\n",
       "      <td>0.5</td>\n",
       "      <td>0.50</td>\n",
       "      <td>0.25</td>\n",
       "      <td>0.5</td>\n",
       "      <td>0.75</td>\n",
       "      <td>0.0</td>\n",
       "      <td>0.0</td>\n",
       "    </tr>\n",
       "  </tbody>\n",
       "</table>\n",
       "</div>"
      ],
      "text/plain": [
       "   NP2SPCH  NP2SALV  NP2SWAL  NP2EAT  NP2DRES  NP2HYGN  NP2HWRT  NP2HOBB  \\\n",
       "0     0.00     0.00     0.00    0.00      0.0     0.00     0.00      0.0   \n",
       "1     0.00     0.00     0.00    0.00      0.0     0.00     0.00      0.0   \n",
       "2     0.00     0.00     0.00    0.25      0.5     0.25     0.50      0.5   \n",
       "3     0.25     0.00     0.25    0.25      0.5     0.25     0.50      0.5   \n",
       "4     0.50     0.75     0.25    0.50      0.5     0.25     0.75      0.5   \n",
       "\n",
       "   NP2TURN  NP2TRMR  NP2RISE  NP2WALK  NP2FREZ  SIGFALL  \n",
       "0     0.00     0.00      0.0     0.00      0.0      0.0  \n",
       "1     0.00     0.00      0.0     0.00      0.0      0.0  \n",
       "2     0.25     0.50      0.5     0.00      0.0      0.0  \n",
       "3     0.25     0.50      0.5     0.25      0.0      1.0  \n",
       "4     0.50     0.25      0.5     0.75      0.0      0.0  "
      ]
     },
     "execution_count": 25,
     "metadata": {},
     "output_type": "execute_result"
    }
   ],
   "source": [
    "updrs_sigfall_raw.head()"
   ]
  },
  {
   "cell_type": "code",
   "execution_count": 11,
   "id": "5ae39541",
   "metadata": {},
   "outputs": [
    {
     "data": {
      "text/plain": [
       "array([ 47.03049694,  58.32505242,  65.65846496,  71.87734368,\n",
       "        77.05393825,  81.02099954,  84.56704499,  88.0077574 ,\n",
       "        90.56291269,  93.09966995,  95.40569458,  97.25268394,\n",
       "        98.70774661, 100.        ])"
      ]
     },
     "execution_count": 11,
     "metadata": {},
     "output_type": "execute_result"
    }
   ],
   "source": [
    "pca_all = PCA(n_components=14,random_state=2222)\n",
    "pca_all.fit(updrs_sigfall_raw)\n",
    "X_pca_all =pca_all.transform(updrs_sigfall_raw)\n",
    "\n",
    "# PCA offers little in the way of coverage in significantly lower dimensions\n",
    "np.cumsum(pca_all.explained_variance_ratio_ * 100)"
   ]
  },
  {
   "cell_type": "markdown",
   "id": "bec89644",
   "metadata": {},
   "source": [
    "## Truncated SVD \n",
    "better for sparse data apparently"
   ]
  },
  {
   "cell_type": "code",
   "execution_count": 22,
   "id": "86e24cf4",
   "metadata": {},
   "outputs": [
    {
     "data": {
      "text/plain": [
       "array([46.79437655, 58.08981402, 65.45572667, 71.70476321, 76.98413868,\n",
       "       80.98454885, 84.53089098, 87.98135261, 90.55533483, 93.09585283,\n",
       "       95.40382773, 97.251181  , 98.70697947])"
      ]
     },
     "execution_count": 22,
     "metadata": {},
     "output_type": "execute_result"
    }
   ],
   "source": [
    "svd = TruncatedSVD(n_components=13, algorithm='arpack', random_state=2222)\n",
    "X_svd = svd.fit_transform(updrs_sigfall_raw)\n",
    "\n",
    "# still a little questionable perhaps\n",
    "np.cumsum(svd.explained_variance_ratio_ * 100)"
   ]
  },
  {
   "cell_type": "markdown",
   "id": "ace0ec02",
   "metadata": {},
   "source": [
    "### Non-linear methods\n",
    "\n",
    "##  t-SNE"
   ]
  },
  {
   "cell_type": "code",
   "execution_count": 31,
   "id": "a2796ac3",
   "metadata": {},
   "outputs": [],
   "source": [
    "# Hows about we just modify the content from \n",
    "# https://scikit-learn.org/stable/auto_examples/manifold/plot_lle_digits.html#sphx-glr-auto-examples-manifold-plot-lle-digits-py"
   ]
  }
 ],
 "metadata": {
  "kernelspec": {
   "display_name": "Python 3 (ipykernel)",
   "language": "python",
   "name": "python3"
  },
  "language_info": {
   "codemirror_mode": {
    "name": "ipython",
    "version": 3
   },
   "file_extension": ".py",
   "mimetype": "text/x-python",
   "name": "python",
   "nbconvert_exporter": "python",
   "pygments_lexer": "ipython3",
   "version": "3.8.13"
  }
 },
 "nbformat": 4,
 "nbformat_minor": 5
}
