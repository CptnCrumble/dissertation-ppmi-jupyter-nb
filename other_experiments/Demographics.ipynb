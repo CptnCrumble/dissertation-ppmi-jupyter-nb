{
 "cells": [
  {
   "cell_type": "code",
   "execution_count": 84,
   "id": "233e0399-aa54-48a8-a5a3-159bf3ec31e4",
   "metadata": {},
   "outputs": [],
   "source": [
    "import pandas\n",
    "import numpy\n",
    "\n",
    "df_pat_main = pandas.read_csv('../source_data/participant_main.csv')\n",
    "df_u_i = pandas.read_csv('../source_data/u_i_records.csv')\n",
    "df_u_ii = pandas.read_csv('../source_data/u_ii_records.csv')\n",
    "df_u_iii = pandas.read_csv('../source_data/u_iii_records.csv')\n",
    "df_u_iv = pandas.read_csv('../source_data/u_iv_records.csv')\n",
    "df_demographics = pandas.read_csv('../source_data/Demographics.csv')\n"
   ]
  },
  {
   "cell_type": "code",
   "execution_count": 89,
   "id": "9e781052-e226-4711-8dec-a37b01a80723",
   "metadata": {},
   "outputs": [
    {
     "data": {
      "text/plain": [
       "(2298, 21)"
      ]
     },
     "execution_count": 89,
     "metadata": {},
     "output_type": "execute_result"
    }
   ],
   "source": [
    "# SEX: 1 = Male, 0 = Female\n",
    "# df_demographics.query('CHLDBEAR == 1 and SEX == 1')[['SEX','CHLDBEAR']]\n",
    "# df_demographics.query('PATNO == 3001')['SEX'].values.tolist()[0]\n",
    "df_demographics.shape"
   ]
  },
  {
   "cell_type": "code",
   "execution_count": 75,
   "id": "c9c3f8d0-1b3b-44e4-9d33-7135541efa99",
   "metadata": {},
   "outputs": [],
   "source": [
    "x = df_u_i['PATNO'].tolist() + df_u_ii['PATNO'].tolist() + df_u_iii['PATNO'].tolist() + df_u_iv['PATNO'].tolist()\n",
    "y = set(x)\n",
    "unique_patnos = list(y)\n",
    "\n",
    "len(unique_patnos)\n",
    "\n",
    "pd_patnos = []\n",
    "pro_dromal_patnos = []\n",
    "\n",
    "for p in unique_patnos:\n",
    "    patno = p\n",
    "    pd = df_pat_main.query('PATNO == @patno')['COHORT_PD'].values.tolist()[0]\n",
    "    if pd == 1:\n",
    "        pd_patnos.append(p)\n",
    "    else:\n",
    "        pro_dromal_patnos.append(p)\n"
   ]
  },
  {
   "cell_type": "code",
   "execution_count": 76,
   "id": "0c7cd4b1-47ef-4e15-aba4-65e85f987a93",
   "metadata": {},
   "outputs": [
    {
     "name": "stdout",
     "output_type": "stream",
     "text": [
      "242\n",
      "323\n"
     ]
    },
    {
     "data": {
      "text/plain": [
       "True"
      ]
     },
     "execution_count": 76,
     "metadata": {},
     "output_type": "execute_result"
    }
   ],
   "source": [
    "pd_total = len(pd_patnos)\n",
    "dromal_total = len(pro_dromal_patnos)\n",
    "\n",
    "print(len(pro_dromal_patnos))\n",
    "print(len(pd_patnos))\n",
    "len(pd_patnos) + len(pro_dromal_patnos) == len(unique_patnos)\n"
   ]
  },
  {
   "cell_type": "code",
   "execution_count": 91,
   "id": "45a36125-9ad6-4f14-9c4d-936cf19f95a3",
   "metadata": {},
   "outputs": [
    {
     "name": "stdout",
     "output_type": "stream",
     "text": [
      "204\n",
      "119\n",
      "111\n",
      "131\n"
     ]
    }
   ],
   "source": [
    "# Count by gender\n",
    "\n",
    "pd_m = []\n",
    "pd_f = []\n",
    "\n",
    "for x in pd_patnos:\n",
    "    sex = df_demographics.query('PATNO == @x')['SEX'].values.tolist()[0]\n",
    "    if sex == 0:\n",
    "        pd_f.append(1)\n",
    "    else:\n",
    "        pd_m.append(1)\n",
    "\n",
    "print(len(pd_m))\n",
    "print(len(pd_f))\n",
    "\n",
    "dromal_m = []\n",
    "dromal_f =[]\n",
    "\n",
    "for x in pro_dromal_patnos:\n",
    "    sex = df_demographics.query('PATNO == @x')['SEX'].values.tolist()[0]\n",
    "    if sex == 0:\n",
    "        dromal_f.append(1)\n",
    "    else:\n",
    "        dromal_m.append(1)\n",
    "\n",
    "print(len(dromal_m))\n",
    "print(len(dromal_f))"
   ]
  }
 ],
 "metadata": {
  "kernelspec": {
   "display_name": "Python 3 (ipykernel)",
   "language": "python",
   "name": "python3"
  },
  "language_info": {
   "codemirror_mode": {
    "name": "ipython",
    "version": 3
   },
   "file_extension": ".py",
   "mimetype": "text/x-python",
   "name": "python",
   "nbconvert_exporter": "python",
   "pygments_lexer": "ipython3",
   "version": "3.8.13"
  }
 },
 "nbformat": 4,
 "nbformat_minor": 5
}
