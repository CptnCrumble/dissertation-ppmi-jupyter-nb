{
 "cells": [
  {
   "cell_type": "code",
   "execution_count": 3,
   "id": "a3cf403e-8ea7-49f5-9acb-8c652dc0bd22",
   "metadata": {},
   "outputs": [],
   "source": [
    "import optunity\n",
    "import optunity.metrics\n",
    "\n",
    "import sklearn.svm\n",
    "import numpy as np"
   ]
  },
  {
   "cell_type": "code",
   "execution_count": 42,
   "id": "ae507413-130f-4888-af04-6ddbeb5bc2b0",
   "metadata": {},
   "outputs": [
    {
     "data": {
      "text/plain": [
       "1.0"
      ]
     },
     "execution_count": 42,
     "metadata": {},
     "output_type": "execute_result"
    }
   ],
   "source": [
    "original_data = np.genfromtxt('./working_data/normalised_delta_updrs_sigfall.csv', delimiter=',', skip_header=True)\n",
    "\n",
    "_, n_columns = original_data.shape\n",
    "\n",
    "data = original_data[:,0:(n_columns - 1)]\n",
    "labels = original_data[:,(n_columns - 1)]\n",
    "labels.max()"
   ]
  },
  {
   "cell_type": "code",
   "execution_count": 46,
   "id": "d7cc87d9-bfd2-42ca-8e45-cd32760ad809",
   "metadata": {},
   "outputs": [
    {
     "data": {
      "text/plain": [
       "0.5429871972062198"
      ]
     },
     "execution_count": 46,
     "metadata": {},
     "output_type": "execute_result"
    }
   ],
   "source": [
    "@optunity.cross_validated(x=data, y=labels, num_folds=25)\n",
    "def svm_default_auroc(x_train, y_train, x_test, y_test):\n",
    "    model = sklearn.svm.SVC().fit(x_train, y_train)\n",
    "    decision_values = model.decision_function(x_test)\n",
    "    auc = optunity.metrics.roc_auc(y_test, decision_values)\n",
    "    return auc\n",
    "\n",
    "svm_default_auroc()"
   ]
  },
  {
   "cell_type": "code",
   "execution_count": 47,
   "id": "6fe1df8d-f2cd-4fb3-9800-260836422990",
   "metadata": {},
   "outputs": [
    {
     "data": {
      "text/plain": [
       "0.5476090712017354"
      ]
     },
     "execution_count": 47,
     "metadata": {},
     "output_type": "execute_result"
    }
   ],
   "source": [
    "#we will make the cross-validation decorator once, so we can reuse it later for the other tuning task\n",
    "# by reusing the decorator, we get the same folds etc.\n",
    "cv_decorator = optunity.cross_validated(x=data, y=labels, num_folds=5)\n",
    "\n",
    "def svm_rbf_tuned_auroc(x_train, y_train, x_test, y_test, C, logGamma):\n",
    "    model = sklearn.svm.SVC(C=C, gamma=10 ** logGamma).fit(x_train, y_train)\n",
    "    decision_values = model.decision_function(x_test)\n",
    "    auc = optunity.metrics.roc_auc(y_test, decision_values)\n",
    "    return auc\n",
    "\n",
    "svm_rbf_tuned_auroc = cv_decorator(svm_rbf_tuned_auroc)\n",
    "# this is equivalent to the more common syntax below\n",
    "# @optunity.cross_validated(x=data, y=labels, num_folds=5)\n",
    "# def svm_rbf_tuned_auroc...\n",
    "\n",
    "svm_rbf_tuned_auroc(C=1.0, logGamma=0.0)"
   ]
  },
  {
   "cell_type": "code",
   "execution_count": 53,
   "id": "47ebdc87-5d1b-414d-a599-8a4405712ac0",
   "metadata": {},
   "outputs": [
    {
     "name": "stdout",
     "output_type": "stream",
     "text": [
      "Optimal parameters: {'C': 2.9970398247088346, 'logGamma': -2.544764841147163}\n",
      "AUROC of tuned SVM with RBF kernel: 0.687\n"
     ]
    }
   ],
   "source": [
    "# as above but optimised for several params\n",
    "optimal_rbf_pars, info, other = optunity.maximize(svm_rbf_tuned_auroc, num_evals=150, C=[0, 10], logGamma=[-5, 0])\n",
    "\n",
    "print(\"Optimal parameters: \" + str(optimal_rbf_pars))\n",
    "print(\"AUROC of tuned SVM with RBF kernel: %1.3f\" % info.optimum)"
   ]
  },
  {
   "cell_type": "code",
   "execution_count": 58,
   "id": "e7029515-cbd5-48f5-9ce2-98f43fec74da",
   "metadata": {},
   "outputs": [],
   "source": [
    "# Finding the optimum SVM by abstracting over all possible Kernel functions:"
   ]
  },
  {
   "cell_type": "code",
   "execution_count": 60,
   "id": "1a5e13f4-7a37-4121-be17-96fa03165a0f",
   "metadata": {},
   "outputs": [
    {
     "name": "stdout",
     "output_type": "stream",
     "text": [
      "Optimal parameters{'kernel': 'rbf', 'C': 4.634464872284727, 'coef0': None, 'degree': None, 'logGamma': -2.632378821329605}\n",
      "AUROC of tuned SVM: 0.711\n"
     ]
    }
   ],
   "source": [
    "space = {'kernel': {'linear': {'C': [0, 2]},\n",
    "                    'rbf': {'logGamma': [-5, 0], 'C': [0, 10]},\n",
    "                    'poly': {'degree': [2, 5], 'C': [0, 5], 'coef0': [0, 2]}\n",
    "                    }\n",
    "         }\n",
    "\n",
    "# Need to use conditional func because sci-kit wont take None argument types\n",
    "def train_model(x_train, y_train, kernel, C, logGamma, degree, coef0):\n",
    "    \"\"\"A generic SVM training function, with arguments based on the chosen kernel.\"\"\"\n",
    "    if kernel == 'linear':\n",
    "        model = sklearn.svm.SVC(kernel=kernel, C=C)\n",
    "    elif kernel == 'poly':\n",
    "        model = sklearn.svm.SVC(kernel=kernel, C=C, degree=degree, coef0=coef0)\n",
    "    elif kernel == 'rbf':\n",
    "        model = sklearn.svm.SVC(kernel=kernel, C=C, gamma=10 ** logGamma)\n",
    "    else:\n",
    "        raise ArgumentError(\"Unknown kernel function: %s\" % kernel)\n",
    "    model.fit(x_train, y_train)\n",
    "    return model\n",
    "\n",
    "def svm_tuned_auroc(x_train, y_train, x_test, y_test, kernel='linear', C=0, logGamma=0, degree=0, coef0=0):\n",
    "    model = train_model(x_train, y_train, kernel, C, logGamma, degree, coef0)\n",
    "    decision_values = model.decision_function(x_test)\n",
    "    return optunity.metrics.roc_auc(y_test, decision_values)\n",
    "\n",
    "svm_tuned_auroc = cv_decorator(svm_tuned_auroc)\n",
    "\n",
    "optimal_svm_pars, info, _ = optunity.maximize_structured(svm_tuned_auroc, space, num_evals=150)\n",
    "print(\"Optimal parameters\" + str(optimal_svm_pars))\n",
    "print(\"AUROC of tuned SVM: %1.3f\" % info.optimum)"
   ]
  },
  {
   "cell_type": "code",
   "execution_count": null,
   "id": "17e9246f-34a2-4efe-bf52-43483b930e04",
   "metadata": {},
   "outputs": [],
   "source": []
  }
 ],
 "metadata": {
  "kernelspec": {
   "display_name": "Python 3 (ipykernel)",
   "language": "python",
   "name": "python3"
  },
  "language_info": {
   "codemirror_mode": {
    "name": "ipython",
    "version": 3
   },
   "file_extension": ".py",
   "mimetype": "text/x-python",
   "name": "python",
   "nbconvert_exporter": "python",
   "pygments_lexer": "ipython3",
   "version": "3.9.1"
  }
 },
 "nbformat": 4,
 "nbformat_minor": 5
}
