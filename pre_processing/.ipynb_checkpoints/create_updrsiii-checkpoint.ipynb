{
 "cells": [
  {
   "cell_type": "code",
   "execution_count": 15,
   "id": "06c9720c-ff2c-42d2-a55a-c3dbcd25a7cb",
   "metadata": {},
   "outputs": [
    {
     "name": "stderr",
     "output_type": "stream",
     "text": [
      "/tmp/ipykernel_120/220647287.py:4: DtypeWarning: Columns (10,17,18,19,20) have mixed types. Specify dtype option on import or set low_memory=False.\n",
      "  df_updrs_iii = pandas.read_csv('../source_data/MDS_UPDRS_Part_III.csv')\n"
     ]
    }
   ],
   "source": [
    "import pandas\n",
    "import numpy\n",
    "\n",
    "df_updrs_iii = pandas.read_csv('../source_data/MDS_UPDRS_Part_III.csv')\n",
    "df_patnos = pandas.read_csv('../source_data/non_hc_patnos.csv')\n",
    "df_sigfall = pandas.read_csv('../source_data/sigfall_main.csv')\n",
    "non_hc_patnos = list(df_patnos.values.flat)"
   ]
  },
  {
   "cell_type": "code",
   "execution_count": 6,
   "id": "9ea89bde-6846-42ac-b332-01990f1de3f4",
   "metadata": {},
   "outputs": [
    {
     "data": {
      "text/plain": [
       "Index(['REC_ID', 'PATNO', 'EVENT_ID', 'PAG_NAME', 'INFODT', 'PDMEDDT',\n",
       "       'PDMEDTM', 'PDSTATE', 'EXAMTM', 'DBS_STATUS', 'NP3SPCH', 'NP3FACXP',\n",
       "       'NP3RIGN', 'NP3RIGRU', 'NP3RIGLU', 'NP3RIGRL', 'NP3RIGLL', 'NP3FTAPR',\n",
       "       'NP3FTAPL', 'NP3HMOVR', 'NP3HMOVL', 'NP3PRSPR', 'NP3PRSPL', 'NP3TTAPR',\n",
       "       'NP3TTAPL', 'NP3LGAGR', 'NP3LGAGL', 'NP3RISNG', 'NP3GAIT', 'NP3FRZGT',\n",
       "       'NP3PSTBL', 'NP3POSTR', 'NP3BRADY', 'NP3PTRMR', 'NP3PTRML', 'NP3KTRMR',\n",
       "       'NP3KTRML', 'NP3RTARU', 'NP3RTALU', 'NP3RTARL', 'NP3RTALL', 'NP3RTALJ',\n",
       "       'NP3RTCON', 'NP3TOT', 'DYSKPRES', 'DYSKIRAT', 'NHY', 'PDTRTMNT',\n",
       "       'DBSONTM', 'DBSOFFTM', 'HRPOSTMED', 'HRDBSOFF', 'HRDBSON', 'ORIG_ENTRY',\n",
       "       'LAST_UPDATE'],\n",
       "      dtype='object')"
      ]
     },
     "execution_count": 6,
     "metadata": {},
     "output_type": "execute_result"
    }
   ],
   "source": [
    "df_updrs_iii.columns"
   ]
  },
  {
   "cell_type": "code",
   "execution_count": 20,
   "id": "80d2f169-f283-4524-af3f-40687d97d303",
   "metadata": {},
   "outputs": [],
   "source": [
    "# --- Create dataframe that combines UPDRSiii data with SIGFALL & PREV_SIGFALL ---\n",
    "\n",
    "def lookup_value(dframe,row,value):\n",
    "    patno = row['PATNO']\n",
    "    infodt = row['INFODT']\n",
    "    \n",
    "    s1 = dframe[(dframe.INFODT == infodt) & (dframe.PATNO == patno)][value]\n",
    "    if s1.empty:    \n",
    "        return numpy.nan\n",
    "    else:\n",
    "        return s1.values[0]\n",
    "    \n",
    "df_updrs_iii_sigfall_base = df_updrs_iii[df_updrs_iii['PATNO'].isin(non_hc_patnos)]\n",
    "df_updrs_iii_sigfall_base = df_updrs_iii_sigfall_base.drop(['REC_ID','PAG_NAME', 'PDMEDDT',\n",
    "       'PDMEDTM', 'PDSTATE', 'EXAMTM', 'DBS_STATUS','DYSKPRES', 'DYSKIRAT', 'PDTRTMNT','DBSONTM', 'DBSOFFTM','HRPOSTMED', 'HRDBSOFF', 'HRDBSON', 'ORIG_ENTRY',\n",
    "       'LAST_UPDATE'], axis=1)\n",
    "df_updrs_iii_sigfall_base['SIGFALL'] = df_updrs_iii_sigfall_base.apply (lambda row: lookup_value(df_sigfall,row,'SIGFALL'), axis=1)\n",
    "df_updrs_iii_sigfall_base['PREV_SIGFALL'] = df_updrs_iii_sigfall_base.apply (lambda row: lookup_value(df_sigfall,row,'PREV_SIGFALL'), axis=1)\n",
    "df_updrs_iii_sigfall_base = df_updrs_iii_sigfall_base.dropna()\n"
   ]
  },
  {
   "cell_type": "code",
   "execution_count": 23,
   "id": "2994ce5d-d55a-4af7-893a-bf42d08489fb",
   "metadata": {},
   "outputs": [
    {
     "data": {
      "text/plain": [
       "0    1323\n",
       "1     159\n",
       "3      78\n",
       "2      38\n",
       "4      10\n",
       "Name: NP3PSTBL, dtype: int64"
      ]
     },
     "execution_count": 23,
     "metadata": {},
     "output_type": "execute_result"
    }
   ],
   "source": [
    "df_updrs_iii_sigfall_base.NP3PSTBL.value_counts()"
   ]
  }
 ],
 "metadata": {
  "kernelspec": {
   "display_name": "Python 3 (ipykernel)",
   "language": "python",
   "name": "python3"
  },
  "language_info": {
   "codemirror_mode": {
    "name": "ipython",
    "version": 3
   },
   "file_extension": ".py",
   "mimetype": "text/x-python",
   "name": "python",
   "nbconvert_exporter": "python",
   "pygments_lexer": "ipython3",
   "version": "3.8.13"
  }
 },
 "nbformat": 4,
 "nbformat_minor": 5
}
