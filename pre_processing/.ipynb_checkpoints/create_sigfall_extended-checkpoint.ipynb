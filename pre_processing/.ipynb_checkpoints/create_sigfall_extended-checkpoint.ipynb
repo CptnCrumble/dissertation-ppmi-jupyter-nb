{
 "cells": [
  {
   "cell_type": "code",
   "execution_count": 1,
   "id": "112adb6a-19e5-40cf-a2f1-7a482c7cc143",
   "metadata": {},
   "outputs": [],
   "source": [
    "import pandas\n",
    "import numpy\n",
    "\n",
    "df_falls = pandas.read_csv('../source_data/Determination_of_Freezing_and_Falls.csv')\n",
    "df_participant_data = pandas.read_csv('../source_data/participant_main.csv')\n",
    "df_patnos = pandas.read_csv('../source_data/non_hc_patnos.csv')\n",
    "non_hc_patnos = list(df_patnos.values.flat)\n",
    "df_age_at_visit = pandas.read_csv('../source_data/Age_at_visit.csv')\n"
   ]
  },
  {
   "cell_type": "code",
   "execution_count": 2,
   "id": "14698db0-5edf-4c02-8285-696b70067da0",
   "metadata": {},
   "outputs": [
    {
     "name": "stdout",
     "output_type": "stream",
     "text": [
      "3776:V15 not found\n",
      "3961:V14 not found\n",
      "102529:BL not found\n"
     ]
    }
   ],
   "source": [
    "def age_at_visit(patno,event_id):\n",
    "    patno = int(patno)\n",
    "    try:\n",
    "        return df_age_at_visit[(df_age_at_visit['PATNO'] == patno) & (df_age_at_visit['EVENT_ID'] == event_id)]['AGE_AT_VISIT'].values[0]\n",
    "    except:\n",
    "        print(f'{patno}:{event_id} not found')\n",
    "        \n",
    "def add_age(row):\n",
    "    p = row['PATNO']\n",
    "    e = row['EVENT_ID']\n",
    "    return age_at_visit(p,e)\n",
    "\n",
    "df_falls['AGE_AT_EVENT'] = df_falls.apply (lambda row: add_age(row), axis=1)"
   ]
  },
  {
   "cell_type": "code",
   "execution_count": 4,
   "id": "bf166222-1c11-4cdb-ab80-c759549264bc",
   "metadata": {},
   "outputs": [
    {
     "data": {
      "text/plain": [
       "0.0    1289\n",
       "1.0     322\n",
       "2.0      55\n",
       "3.0       8\n",
       "4.0       2\n",
       "Name: FLNFR12M, dtype: int64"
      ]
     },
     "execution_count": 4,
     "metadata": {},
     "output_type": "execute_result"
    }
   ],
   "source": [
    "df_falls['FLNFR12M'].value_counts()"
   ]
  },
  {
   "cell_type": "code",
   "execution_count": 5,
   "id": "0bab4262-3c3c-475e-a9d7-1cce1acbc51c",
   "metadata": {},
   "outputs": [],
   "source": [
    "# --- Summarise ALL FALLS into SIGFALL binary flag ---\n",
    "\n",
    "def sigfall(row):\n",
    "    if row['FLLDRVIS'] == 1.0:\n",
    "        return 1.0\n",
    "    if row['FLLERVIS'] == 1.0:\n",
    "        return 1.0\n",
    "    if row['FLLHOSP'] == 1.0:\n",
    "        return 1.0\n",
    "    if row['FLLSURG'] == 1.0:\n",
    "        return 1.0\n",
    "    if row['FLLINST'] == 1.0:\n",
    "        return 1.0\n",
    "    if row['FLNFR12M'] > 0.0:\n",
    "        return 1.0\n",
    "    else:\n",
    "        return 0.0\n",
    "    \n",
    "df_falls['SIGFALL'] = df_falls.apply (lambda row: sigfall(row), axis=1)"
   ]
  },
  {
   "cell_type": "code",
   "execution_count": 6,
   "id": "a6422ab7-4868-4326-a88a-3acf989f8017",
   "metadata": {},
   "outputs": [
    {
     "data": {
      "text/plain": [
       "(1677, 27)"
      ]
     },
     "execution_count": 6,
     "metadata": {},
     "output_type": "execute_result"
    }
   ],
   "source": [
    "df_falls.shape"
   ]
  },
  {
   "cell_type": "code",
   "execution_count": null,
   "id": "9f62790f-b330-4322-af19-c69069376eca",
   "metadata": {},
   "outputs": [],
   "source": [
    "# its the same - no point adding it?\n",
    "# might be worth adding for theoretical completion, will consider it during the write up"
   ]
  }
 ],
 "metadata": {
  "kernelspec": {
   "display_name": "Python 3 (ipykernel)",
   "language": "python",
   "name": "python3"
  },
  "language_info": {
   "codemirror_mode": {
    "name": "ipython",
    "version": 3
   },
   "file_extension": ".py",
   "mimetype": "text/x-python",
   "name": "python",
   "nbconvert_exporter": "python",
   "pygments_lexer": "ipython3",
   "version": "3.8.13"
  }
 },
 "nbformat": 4,
 "nbformat_minor": 5
}
